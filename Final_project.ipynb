{
 "cells": [
  {
   "attachments": {},
   "cell_type": "markdown",
   "id": "0ce299a8",
   "metadata": {},
   "source": [
    "## CICS 397A Final Project: Exploring Economic Mobility Data from Opportunity Insights\n"
   ]
  },
  {
   "cell_type": "code",
   "execution_count": 61,
   "id": "1809bdb1",
   "metadata": {},
   "outputs": [],
   "source": [
    "# importing all the libraries we would be using for this project.\n",
    "import os.path\n",
    "import pandas as pd\n",
    "import numpy as np\n",
    "from sklearn.cluster import AgglomerativeClustering, KMeans\n",
    "from sklearn.preprocessing import StandardScaler\n",
    "import plotly.express as px\n",
    "from geopy.geocoders import Nominatim\n",
    "from sklearn.model_selection import train_test_split, cross_val_score\n",
    "from sklearn import metrics\n",
    "from sklearn.neighbors import KNeighborsClassifier\n",
    "import seaborn as sns\n",
    "import  matplotlib.pyplot as plt"
   ]
  },
  {
   "cell_type": "code",
   "execution_count": 62,
   "id": "17de95c1",
   "metadata": {},
   "outputs": [
    {
     "data": {
      "text/html": [
       "<div>\n",
       "<style scoped>\n",
       "    .dataframe tbody tr th:only-of-type {\n",
       "        vertical-align: middle;\n",
       "    }\n",
       "\n",
       "    .dataframe tbody tr th {\n",
       "        vertical-align: top;\n",
       "    }\n",
       "\n",
       "    .dataframe thead th {\n",
       "        text-align: right;\n",
       "    }\n",
       "</style>\n",
       "<table border=\"1\" class=\"dataframe\">\n",
       "  <thead>\n",
       "    <tr style=\"text-align: right;\">\n",
       "      <th></th>\n",
       "      <th>county_name</th>\n",
       "      <th>num_below_p50</th>\n",
       "      <th>pop2018</th>\n",
       "      <th>ec_county</th>\n",
       "      <th>ec_se_county</th>\n",
       "      <th>child_ec_county</th>\n",
       "      <th>child_ec_se_county</th>\n",
       "      <th>ec_grp_mem_county</th>\n",
       "      <th>ec_high_county</th>\n",
       "      <th>ec_high_se_county</th>\n",
       "      <th>...</th>\n",
       "      <th>child_exposure_county</th>\n",
       "      <th>child_high_exposure_county</th>\n",
       "      <th>bias_grp_mem_county</th>\n",
       "      <th>bias_grp_mem_high_county</th>\n",
       "      <th>child_bias_county</th>\n",
       "      <th>child_high_bias_county</th>\n",
       "      <th>clustering_county</th>\n",
       "      <th>support_ratio_county</th>\n",
       "      <th>volunteering_rate_county</th>\n",
       "      <th>civic_organizations_county</th>\n",
       "    </tr>\n",
       "    <tr>\n",
       "      <th>county</th>\n",
       "      <th></th>\n",
       "      <th></th>\n",
       "      <th></th>\n",
       "      <th></th>\n",
       "      <th></th>\n",
       "      <th></th>\n",
       "      <th></th>\n",
       "      <th></th>\n",
       "      <th></th>\n",
       "      <th></th>\n",
       "      <th></th>\n",
       "      <th></th>\n",
       "      <th></th>\n",
       "      <th></th>\n",
       "      <th></th>\n",
       "      <th></th>\n",
       "      <th></th>\n",
       "      <th></th>\n",
       "      <th></th>\n",
       "      <th></th>\n",
       "      <th></th>\n",
       "    </tr>\n",
       "  </thead>\n",
       "  <tbody>\n",
       "    <tr>\n",
       "      <th>1001</th>\n",
       "      <td>Autauga, Alabama</td>\n",
       "      <td>5922.39210</td>\n",
       "      <td>55200.0</td>\n",
       "      <td>0.72077</td>\n",
       "      <td>0.00831</td>\n",
       "      <td>1.11754</td>\n",
       "      <td>0.02467</td>\n",
       "      <td>0.77223</td>\n",
       "      <td>1.21372</td>\n",
       "      <td>0.01019</td>\n",
       "      <td>...</td>\n",
       "      <td>1.14816</td>\n",
       "      <td>1.19944</td>\n",
       "      <td>0.05526</td>\n",
       "      <td>-0.22748</td>\n",
       "      <td>0.02668</td>\n",
       "      <td>-0.08229</td>\n",
       "      <td>0.10347</td>\n",
       "      <td>0.98275</td>\n",
       "      <td>0.04355</td>\n",
       "      <td>0.01518</td>\n",
       "    </tr>\n",
       "    <tr>\n",
       "      <th>1003</th>\n",
       "      <td>Baldwin, Alabama</td>\n",
       "      <td>15458.39600</td>\n",
       "      <td>208107.0</td>\n",
       "      <td>0.74313</td>\n",
       "      <td>0.00661</td>\n",
       "      <td>0.83064</td>\n",
       "      <td>0.01629</td>\n",
       "      <td>0.76215</td>\n",
       "      <td>1.28302</td>\n",
       "      <td>0.00757</td>\n",
       "      <td>...</td>\n",
       "      <td>0.84588</td>\n",
       "      <td>1.00797</td>\n",
       "      <td>0.02950</td>\n",
       "      <td>-0.21519</td>\n",
       "      <td>0.01802</td>\n",
       "      <td>-0.05241</td>\n",
       "      <td>0.09624</td>\n",
       "      <td>0.98684</td>\n",
       "      <td>0.06117</td>\n",
       "      <td>0.01526</td>\n",
       "    </tr>\n",
       "    <tr>\n",
       "      <th>1005</th>\n",
       "      <td>Barbour, Alabama</td>\n",
       "      <td>4863.97360</td>\n",
       "      <td>25782.0</td>\n",
       "      <td>0.41366</td>\n",
       "      <td>0.00978</td>\n",
       "      <td>0.58541</td>\n",
       "      <td>0.02707</td>\n",
       "      <td>0.35927</td>\n",
       "      <td>0.91897</td>\n",
       "      <td>0.02199</td>\n",
       "      <td>...</td>\n",
       "      <td>0.63306</td>\n",
       "      <td>0.71967</td>\n",
       "      <td>0.13457</td>\n",
       "      <td>-0.34086</td>\n",
       "      <td>0.07528</td>\n",
       "      <td>-0.19714</td>\n",
       "      <td>0.14911</td>\n",
       "      <td>0.99911</td>\n",
       "      <td>0.02093</td>\n",
       "      <td>0.01474</td>\n",
       "    </tr>\n",
       "    <tr>\n",
       "      <th>1007</th>\n",
       "      <td>Bibb, Alabama</td>\n",
       "      <td>3061.49340</td>\n",
       "      <td>22527.0</td>\n",
       "      <td>0.63152</td>\n",
       "      <td>0.01175</td>\n",
       "      <td>0.72265</td>\n",
       "      <td>0.03027</td>\n",
       "      <td>0.68094</td>\n",
       "      <td>1.06378</td>\n",
       "      <td>0.01476</td>\n",
       "      <td>...</td>\n",
       "      <td>0.71433</td>\n",
       "      <td>0.72395</td>\n",
       "      <td>0.04108</td>\n",
       "      <td>-0.27727</td>\n",
       "      <td>-0.01165</td>\n",
       "      <td>-0.15993</td>\n",
       "      <td>0.14252</td>\n",
       "      <td>0.99716</td>\n",
       "      <td>0.05294</td>\n",
       "      <td>0.01439</td>\n",
       "    </tr>\n",
       "    <tr>\n",
       "      <th>1009</th>\n",
       "      <td>Blount, Alabama</td>\n",
       "      <td>6740.91160</td>\n",
       "      <td>57645.0</td>\n",
       "      <td>0.72562</td>\n",
       "      <td>0.00985</td>\n",
       "      <td>0.76096</td>\n",
       "      <td>0.02466</td>\n",
       "      <td>0.79584</td>\n",
       "      <td>1.10569</td>\n",
       "      <td>0.01163</td>\n",
       "      <td>...</td>\n",
       "      <td>0.74821</td>\n",
       "      <td>0.79375</td>\n",
       "      <td>0.00217</td>\n",
       "      <td>-0.24946</td>\n",
       "      <td>-0.01704</td>\n",
       "      <td>-0.08745</td>\n",
       "      <td>0.11243</td>\n",
       "      <td>0.99069</td>\n",
       "      <td>0.05704</td>\n",
       "      <td>0.01724</td>\n",
       "    </tr>\n",
       "    <tr>\n",
       "      <th>...</th>\n",
       "      <td>...</td>\n",
       "      <td>...</td>\n",
       "      <td>...</td>\n",
       "      <td>...</td>\n",
       "      <td>...</td>\n",
       "      <td>...</td>\n",
       "      <td>...</td>\n",
       "      <td>...</td>\n",
       "      <td>...</td>\n",
       "      <td>...</td>\n",
       "      <td>...</td>\n",
       "      <td>...</td>\n",
       "      <td>...</td>\n",
       "      <td>...</td>\n",
       "      <td>...</td>\n",
       "      <td>...</td>\n",
       "      <td>...</td>\n",
       "      <td>...</td>\n",
       "      <td>...</td>\n",
       "      <td>...</td>\n",
       "      <td>...</td>\n",
       "    </tr>\n",
       "    <tr>\n",
       "      <th>56037</th>\n",
       "      <td>Sweetwater, Wyoming</td>\n",
       "      <td>2402.96900</td>\n",
       "      <td>44117.0</td>\n",
       "      <td>0.96235</td>\n",
       "      <td>0.01280</td>\n",
       "      <td>1.14781</td>\n",
       "      <td>0.02794</td>\n",
       "      <td>1.13449</td>\n",
       "      <td>1.32399</td>\n",
       "      <td>0.01177</td>\n",
       "      <td>...</td>\n",
       "      <td>1.12164</td>\n",
       "      <td>1.12907</td>\n",
       "      <td>0.09519</td>\n",
       "      <td>-0.12030</td>\n",
       "      <td>-0.02333</td>\n",
       "      <td>-0.08683</td>\n",
       "      <td>0.10809</td>\n",
       "      <td>0.99710</td>\n",
       "      <td>0.07321</td>\n",
       "      <td>0.01225</td>\n",
       "    </tr>\n",
       "    <tr>\n",
       "      <th>56039</th>\n",
       "      <td>Teton, Wyoming</td>\n",
       "      <td>783.24982</td>\n",
       "      <td>23059.0</td>\n",
       "      <td>1.07623</td>\n",
       "      <td>0.01744</td>\n",
       "      <td>1.23113</td>\n",
       "      <td>0.04692</td>\n",
       "      <td>1.13296</td>\n",
       "      <td>1.63551</td>\n",
       "      <td>0.00848</td>\n",
       "      <td>...</td>\n",
       "      <td>1.32874</td>\n",
       "      <td>1.35341</td>\n",
       "      <td>0.14337</td>\n",
       "      <td>-0.11958</td>\n",
       "      <td>0.07346</td>\n",
       "      <td>-0.07364</td>\n",
       "      <td>0.09253</td>\n",
       "      <td>0.98648</td>\n",
       "      <td>0.09747</td>\n",
       "      <td>0.03223</td>\n",
       "    </tr>\n",
       "    <tr>\n",
       "      <th>56041</th>\n",
       "      <td>Uinta, Wyoming</td>\n",
       "      <td>2174.06180</td>\n",
       "      <td>20609.0</td>\n",
       "      <td>0.95452</td>\n",
       "      <td>0.01404</td>\n",
       "      <td>1.04595</td>\n",
       "      <td>0.03455</td>\n",
       "      <td>0.92831</td>\n",
       "      <td>1.32040</td>\n",
       "      <td>0.01351</td>\n",
       "      <td>...</td>\n",
       "      <td>1.05446</td>\n",
       "      <td>1.06284</td>\n",
       "      <td>0.13816</td>\n",
       "      <td>-0.12194</td>\n",
       "      <td>0.00808</td>\n",
       "      <td>-0.06074</td>\n",
       "      <td>0.11204</td>\n",
       "      <td>0.99479</td>\n",
       "      <td>0.06942</td>\n",
       "      <td>0.01222</td>\n",
       "    </tr>\n",
       "    <tr>\n",
       "      <th>56043</th>\n",
       "      <td>Washakie, Wyoming</td>\n",
       "      <td>872.51544</td>\n",
       "      <td>8129.0</td>\n",
       "      <td>0.90667</td>\n",
       "      <td>0.01928</td>\n",
       "      <td>0.90794</td>\n",
       "      <td>0.04962</td>\n",
       "      <td>0.78223</td>\n",
       "      <td>1.29208</td>\n",
       "      <td>0.02298</td>\n",
       "      <td>...</td>\n",
       "      <td>0.88480</td>\n",
       "      <td>0.88589</td>\n",
       "      <td>0.06667</td>\n",
       "      <td>-0.20435</td>\n",
       "      <td>-0.02615</td>\n",
       "      <td>-0.06076</td>\n",
       "      <td>0.11592</td>\n",
       "      <td>0.99708</td>\n",
       "      <td>0.05843</td>\n",
       "      <td>0.03512</td>\n",
       "    </tr>\n",
       "    <tr>\n",
       "      <th>56045</th>\n",
       "      <td>Weston, Wyoming</td>\n",
       "      <td>635.28436</td>\n",
       "      <td>7100.0</td>\n",
       "      <td>0.97840</td>\n",
       "      <td>0.02036</td>\n",
       "      <td>1.09118</td>\n",
       "      <td>0.05823</td>\n",
       "      <td>0.93135</td>\n",
       "      <td>1.28553</td>\n",
       "      <td>0.02013</td>\n",
       "      <td>...</td>\n",
       "      <td>1.03325</td>\n",
       "      <td>1.05526</td>\n",
       "      <td>0.02279</td>\n",
       "      <td>-0.17229</td>\n",
       "      <td>-0.05606</td>\n",
       "      <td>-0.04609</td>\n",
       "      <td>0.11927</td>\n",
       "      <td>0.99730</td>\n",
       "      <td>0.13635</td>\n",
       "      <td>0.02375</td>\n",
       "    </tr>\n",
       "  </tbody>\n",
       "</table>\n",
       "<p>2713 rows × 25 columns</p>\n",
       "</div>"
      ],
      "text/plain": [
       "                county_name  num_below_p50   pop2018  ec_county  ec_se_county  \\\n",
       "county                                                                          \n",
       "1001       Autauga, Alabama     5922.39210   55200.0    0.72077       0.00831   \n",
       "1003       Baldwin, Alabama    15458.39600  208107.0    0.74313       0.00661   \n",
       "1005       Barbour, Alabama     4863.97360   25782.0    0.41366       0.00978   \n",
       "1007          Bibb, Alabama     3061.49340   22527.0    0.63152       0.01175   \n",
       "1009        Blount, Alabama     6740.91160   57645.0    0.72562       0.00985   \n",
       "...                     ...            ...       ...        ...           ...   \n",
       "56037   Sweetwater, Wyoming     2402.96900   44117.0    0.96235       0.01280   \n",
       "56039        Teton, Wyoming      783.24982   23059.0    1.07623       0.01744   \n",
       "56041        Uinta, Wyoming     2174.06180   20609.0    0.95452       0.01404   \n",
       "56043     Washakie, Wyoming      872.51544    8129.0    0.90667       0.01928   \n",
       "56045       Weston, Wyoming      635.28436    7100.0    0.97840       0.02036   \n",
       "\n",
       "        child_ec_county  child_ec_se_county  ec_grp_mem_county  \\\n",
       "county                                                           \n",
       "1001            1.11754             0.02467            0.77223   \n",
       "1003            0.83064             0.01629            0.76215   \n",
       "1005            0.58541             0.02707            0.35927   \n",
       "1007            0.72265             0.03027            0.68094   \n",
       "1009            0.76096             0.02466            0.79584   \n",
       "...                 ...                 ...                ...   \n",
       "56037           1.14781             0.02794            1.13449   \n",
       "56039           1.23113             0.04692            1.13296   \n",
       "56041           1.04595             0.03455            0.92831   \n",
       "56043           0.90794             0.04962            0.78223   \n",
       "56045           1.09118             0.05823            0.93135   \n",
       "\n",
       "        ec_high_county  ec_high_se_county  ...  child_exposure_county  \\\n",
       "county                                     ...                          \n",
       "1001           1.21372            0.01019  ...                1.14816   \n",
       "1003           1.28302            0.00757  ...                0.84588   \n",
       "1005           0.91897            0.02199  ...                0.63306   \n",
       "1007           1.06378            0.01476  ...                0.71433   \n",
       "1009           1.10569            0.01163  ...                0.74821   \n",
       "...                ...                ...  ...                    ...   \n",
       "56037          1.32399            0.01177  ...                1.12164   \n",
       "56039          1.63551            0.00848  ...                1.32874   \n",
       "56041          1.32040            0.01351  ...                1.05446   \n",
       "56043          1.29208            0.02298  ...                0.88480   \n",
       "56045          1.28553            0.02013  ...                1.03325   \n",
       "\n",
       "        child_high_exposure_county  bias_grp_mem_county  \\\n",
       "county                                                    \n",
       "1001                       1.19944              0.05526   \n",
       "1003                       1.00797              0.02950   \n",
       "1005                       0.71967              0.13457   \n",
       "1007                       0.72395              0.04108   \n",
       "1009                       0.79375              0.00217   \n",
       "...                            ...                  ...   \n",
       "56037                      1.12907              0.09519   \n",
       "56039                      1.35341              0.14337   \n",
       "56041                      1.06284              0.13816   \n",
       "56043                      0.88589              0.06667   \n",
       "56045                      1.05526              0.02279   \n",
       "\n",
       "        bias_grp_mem_high_county  child_bias_county  child_high_bias_county  \\\n",
       "county                                                                        \n",
       "1001                    -0.22748            0.02668                -0.08229   \n",
       "1003                    -0.21519            0.01802                -0.05241   \n",
       "1005                    -0.34086            0.07528                -0.19714   \n",
       "1007                    -0.27727           -0.01165                -0.15993   \n",
       "1009                    -0.24946           -0.01704                -0.08745   \n",
       "...                          ...                ...                     ...   \n",
       "56037                   -0.12030           -0.02333                -0.08683   \n",
       "56039                   -0.11958            0.07346                -0.07364   \n",
       "56041                   -0.12194            0.00808                -0.06074   \n",
       "56043                   -0.20435           -0.02615                -0.06076   \n",
       "56045                   -0.17229           -0.05606                -0.04609   \n",
       "\n",
       "        clustering_county  support_ratio_county  volunteering_rate_county  \\\n",
       "county                                                                      \n",
       "1001              0.10347               0.98275                   0.04355   \n",
       "1003              0.09624               0.98684                   0.06117   \n",
       "1005              0.14911               0.99911                   0.02093   \n",
       "1007              0.14252               0.99716                   0.05294   \n",
       "1009              0.11243               0.99069                   0.05704   \n",
       "...                   ...                   ...                       ...   \n",
       "56037             0.10809               0.99710                   0.07321   \n",
       "56039             0.09253               0.98648                   0.09747   \n",
       "56041             0.11204               0.99479                   0.06942   \n",
       "56043             0.11592               0.99708                   0.05843   \n",
       "56045             0.11927               0.99730                   0.13635   \n",
       "\n",
       "        civic_organizations_county  \n",
       "county                              \n",
       "1001                       0.01518  \n",
       "1003                       0.01526  \n",
       "1005                       0.01474  \n",
       "1007                       0.01439  \n",
       "1009                       0.01724  \n",
       "...                            ...  \n",
       "56037                      0.01225  \n",
       "56039                      0.03223  \n",
       "56041                      0.01222  \n",
       "56043                      0.03512  \n",
       "56045                      0.02375  \n",
       "\n",
       "[2713 rows x 25 columns]"
      ]
     },
     "execution_count": 62,
     "metadata": {},
     "output_type": "execute_result"
    }
   ],
   "source": [
    "# First we read in the social_capital_county.csv data file and clean the data\n",
    "data = pd.read_csv(\"social_capital_county.csv\")\n",
    "data.set_index('county', inplace = True)\n",
    "data.replace(r'^\\s*$',np.nan, regex = True, inplace = True)\n",
    "data.dropna(inplace = True)\n",
    "data"
   ]
  },
  {
   "attachments": {},
   "cell_type": "markdown",
   "id": "0ce299a8",
   "metadata": {},
   "source": [
    "## Visualizations"
   ]
  },
  {
   "cell_type": "code",
   "execution_count": 63,
   "metadata": {},
   "outputs": [
    {
     "name": "stderr",
     "output_type": "stream",
     "text": [
      "/var/folders/fs/w237dm613w95cl09y95vfhy00000gn/T/ipykernel_43077/2598059350.py:4: SettingWithCopyWarning:\n",
      "\n",
      "\n",
      "A value is trying to be set on a copy of a slice from a DataFrame.\n",
      "Try using .loc[row_indexer,col_indexer] = value instead\n",
      "\n",
      "See the caveats in the documentation: https://pandas.pydata.org/pandas-docs/stable/user_guide/indexing.html#returning-a-view-versus-a-copy\n",
      "\n",
      "/var/folders/fs/w237dm613w95cl09y95vfhy00000gn/T/ipykernel_43077/2598059350.py:5: SettingWithCopyWarning:\n",
      "\n",
      "\n",
      "A value is trying to be set on a copy of a slice from a DataFrame.\n",
      "Try using .loc[row_indexer,col_indexer] = value instead\n",
      "\n",
      "See the caveats in the documentation: https://pandas.pydata.org/pandas-docs/stable/user_guide/indexing.html#returning-a-view-versus-a-copy\n",
      "\n",
      "/opt/anaconda3/lib/python3.9/site-packages/pandas/core/frame.py:4906: SettingWithCopyWarning:\n",
      "\n",
      "\n",
      "A value is trying to be set on a copy of a slice from a DataFrame\n",
      "\n",
      "See the caveats in the documentation: https://pandas.pydata.org/pandas-docs/stable/user_guide/indexing.html#returning-a-view-versus-a-copy\n",
      "\n"
     ]
    }
   ],
   "source": [
    "# We start by taking a copy of the data and splitting the county_names column to get the name of the state and the county in two seperate columns\n",
    "new_data = data['county_name'].str.split(\", \", n = 1, expand = True)\n",
    "visual_data = data[['pop2018','num_below_p50', 'ec_county','volunteering_rate_county','civic_organizations_county']]\n",
    "visual_data[\"states\"] = new_data[1]\n",
    "visual_data[\"county_name\"] = new_data[0]\n",
    "visual_data.drop(columns =[\"county_name\"], inplace = True)"
   ]
  },
  {
   "cell_type": "code",
   "execution_count": 64,
   "metadata": {},
   "outputs": [
    {
     "data": {
      "text/html": [
       "<div>\n",
       "<style scoped>\n",
       "    .dataframe tbody tr th:only-of-type {\n",
       "        vertical-align: middle;\n",
       "    }\n",
       "\n",
       "    .dataframe tbody tr th {\n",
       "        vertical-align: top;\n",
       "    }\n",
       "\n",
       "    .dataframe thead th {\n",
       "        text-align: right;\n",
       "    }\n",
       "</style>\n",
       "<table border=\"1\" class=\"dataframe\">\n",
       "  <thead>\n",
       "    <tr style=\"text-align: right;\">\n",
       "      <th></th>\n",
       "      <th>pop2018</th>\n",
       "      <th>num_below_p50</th>\n",
       "      <th>ec_county</th>\n",
       "      <th>volunteering_rate_county</th>\n",
       "      <th>civic_organizations_county</th>\n",
       "    </tr>\n",
       "    <tr>\n",
       "      <th>states</th>\n",
       "      <th></th>\n",
       "      <th></th>\n",
       "      <th></th>\n",
       "      <th></th>\n",
       "      <th></th>\n",
       "    </tr>\n",
       "  </thead>\n",
       "  <tbody>\n",
       "    <tr>\n",
       "      <th>Alabama</th>\n",
       "      <td>4800062.0</td>\n",
       "      <td>5.945022e+05</td>\n",
       "      <td>37.006660</td>\n",
       "      <td>2.62703</td>\n",
       "      <td>0.91152</td>\n",
       "    </tr>\n",
       "    <tr>\n",
       "      <th>Alaska</th>\n",
       "      <td>699092.0</td>\n",
       "      <td>6.882624e+04</td>\n",
       "      <td>15.896420</td>\n",
       "      <td>2.14754</td>\n",
       "      <td>0.38115</td>\n",
       "    </tr>\n",
       "    <tr>\n",
       "      <th>Arizona</th>\n",
       "      <td>6946685.0</td>\n",
       "      <td>6.506165e+05</td>\n",
       "      <td>10.378920</td>\n",
       "      <td>0.93180</td>\n",
       "      <td>0.25776</td>\n",
       "    </tr>\n",
       "    <tr>\n",
       "      <th>Arkansas</th>\n",
       "      <td>2920915.0</td>\n",
       "      <td>3.858237e+05</td>\n",
       "      <td>45.995280</td>\n",
       "      <td>5.07833</td>\n",
       "      <td>1.09577</td>\n",
       "    </tr>\n",
       "    <tr>\n",
       "      <th>California</th>\n",
       "      <td>39144684.0</td>\n",
       "      <td>4.559372e+06</td>\n",
       "      <td>44.986300</td>\n",
       "      <td>4.20621</td>\n",
       "      <td>1.02655</td>\n",
       "    </tr>\n",
       "    <tr>\n",
       "      <th>Colorado</th>\n",
       "      <td>5455931.0</td>\n",
       "      <td>4.102923e+05</td>\n",
       "      <td>43.112780</td>\n",
       "      <td>3.41552</td>\n",
       "      <td>1.00424</td>\n",
       "    </tr>\n",
       "    <tr>\n",
       "      <th>Connecticut</th>\n",
       "      <td>3581504.0</td>\n",
       "      <td>2.375277e+05</td>\n",
       "      <td>7.589540</td>\n",
       "      <td>0.56224</td>\n",
       "      <td>0.14553</td>\n",
       "    </tr>\n",
       "    <tr>\n",
       "      <th>Delaware</th>\n",
       "      <td>949495.0</td>\n",
       "      <td>7.761421e+04</td>\n",
       "      <td>2.344840</td>\n",
       "      <td>0.16945</td>\n",
       "      <td>0.05257</td>\n",
       "    </tr>\n",
       "    <tr>\n",
       "      <th>Florida</th>\n",
       "      <td>20573040.0</td>\n",
       "      <td>2.031931e+06</td>\n",
       "      <td>43.475460</td>\n",
       "      <td>3.70898</td>\n",
       "      <td>1.02865</td>\n",
       "    </tr>\n",
       "    <tr>\n",
       "      <th>Georgia</th>\n",
       "      <td>10132707.0</td>\n",
       "      <td>1.071242e+06</td>\n",
       "      <td>83.266520</td>\n",
       "      <td>6.94795</td>\n",
       "      <td>2.10209</td>\n",
       "    </tr>\n",
       "    <tr>\n",
       "      <th>Hawaii</th>\n",
       "      <td>1421954.0</td>\n",
       "      <td>1.187976e+05</td>\n",
       "      <td>4.165020</td>\n",
       "      <td>0.36596</td>\n",
       "      <td>0.07818</td>\n",
       "    </tr>\n",
       "    <tr>\n",
       "      <th>Idaho</th>\n",
       "      <td>1658755.0</td>\n",
       "      <td>1.599293e+05</td>\n",
       "      <td>30.791480</td>\n",
       "      <td>3.37793</td>\n",
       "      <td>0.63922</td>\n",
       "    </tr>\n",
       "    <tr>\n",
       "      <th>Illinois</th>\n",
       "      <td>12791081.0</td>\n",
       "      <td>1.236866e+06</td>\n",
       "      <td>81.232550</td>\n",
       "      <td>8.79771</td>\n",
       "      <td>1.74041</td>\n",
       "    </tr>\n",
       "    <tr>\n",
       "      <th>Indiana</th>\n",
       "      <td>6637426.0</td>\n",
       "      <td>5.936416e+05</td>\n",
       "      <td>75.756239</td>\n",
       "      <td>9.08583</td>\n",
       "      <td>1.68671</td>\n",
       "    </tr>\n",
       "    <tr>\n",
       "      <th>Iowa</th>\n",
       "      <td>3116220.0</td>\n",
       "      <td>2.715546e+05</td>\n",
       "      <td>94.318291</td>\n",
       "      <td>8.42445</td>\n",
       "      <td>2.04632</td>\n",
       "    </tr>\n",
       "    <tr>\n",
       "      <th>Kansas</th>\n",
       "      <td>2821072.0</td>\n",
       "      <td>2.671552e+05</td>\n",
       "      <td>67.822720</td>\n",
       "      <td>7.23702</td>\n",
       "      <td>1.80047</td>\n",
       "    </tr>\n",
       "    <tr>\n",
       "      <th>Kentucky</th>\n",
       "      <td>4334623.0</td>\n",
       "      <td>4.804756e+05</td>\n",
       "      <td>88.188270</td>\n",
       "      <td>7.01691</td>\n",
       "      <td>1.64706</td>\n",
       "    </tr>\n",
       "    <tr>\n",
       "      <th>Louisiana</th>\n",
       "      <td>4629842.0</td>\n",
       "      <td>6.802627e+05</td>\n",
       "      <td>42.569710</td>\n",
       "      <td>3.87435</td>\n",
       "      <td>0.73021</td>\n",
       "    </tr>\n",
       "    <tr>\n",
       "      <th>Maine</th>\n",
       "      <td>1332813.0</td>\n",
       "      <td>1.308165e+05</td>\n",
       "      <td>13.466950</td>\n",
       "      <td>1.47931</td>\n",
       "      <td>0.41481</td>\n",
       "    </tr>\n",
       "    <tr>\n",
       "      <th>Maryland</th>\n",
       "      <td>6003435.0</td>\n",
       "      <td>5.258774e+05</td>\n",
       "      <td>22.769940</td>\n",
       "      <td>1.65616</td>\n",
       "      <td>0.48794</td>\n",
       "    </tr>\n",
       "    <tr>\n",
       "      <th>Massachusetts</th>\n",
       "      <td>6830193.0</td>\n",
       "      <td>4.750577e+05</td>\n",
       "      <td>12.999770</td>\n",
       "      <td>1.07476</td>\n",
       "      <td>0.30881</td>\n",
       "    </tr>\n",
       "    <tr>\n",
       "      <th>Michigan</th>\n",
       "      <td>9928366.0</td>\n",
       "      <td>9.168672e+05</td>\n",
       "      <td>63.622180</td>\n",
       "      <td>10.14815</td>\n",
       "      <td>1.73108</td>\n",
       "    </tr>\n",
       "    <tr>\n",
       "      <th>Minnesota</th>\n",
       "      <td>5514702.0</td>\n",
       "      <td>3.921926e+05</td>\n",
       "      <td>87.880370</td>\n",
       "      <td>6.17743</td>\n",
       "      <td>1.82268</td>\n",
       "    </tr>\n",
       "    <tr>\n",
       "      <th>Mississippi</th>\n",
       "      <td>2833064.0</td>\n",
       "      <td>4.517853e+05</td>\n",
       "      <td>42.208420</td>\n",
       "      <td>2.98153</td>\n",
       "      <td>0.80061</td>\n",
       "    </tr>\n",
       "    <tr>\n",
       "      <th>Missouri</th>\n",
       "      <td>5993300.0</td>\n",
       "      <td>6.334971e+05</td>\n",
       "      <td>84.646800</td>\n",
       "      <td>9.49041</td>\n",
       "      <td>1.88829</td>\n",
       "    </tr>\n",
       "    <tr>\n",
       "      <th>Montana</th>\n",
       "      <td>992782.0</td>\n",
       "      <td>1.053250e+05</td>\n",
       "      <td>30.199260</td>\n",
       "      <td>2.93830</td>\n",
       "      <td>0.91847</td>\n",
       "    </tr>\n",
       "    <tr>\n",
       "      <th>Nebraska</th>\n",
       "      <td>1822766.0</td>\n",
       "      <td>1.655595e+05</td>\n",
       "      <td>54.918860</td>\n",
       "      <td>4.74756</td>\n",
       "      <td>1.25126</td>\n",
       "    </tr>\n",
       "    <tr>\n",
       "      <th>Nevada</th>\n",
       "      <td>2899292.0</td>\n",
       "      <td>2.389760e+05</td>\n",
       "      <td>9.193920</td>\n",
       "      <td>0.91779</td>\n",
       "      <td>0.17995</td>\n",
       "    </tr>\n",
       "    <tr>\n",
       "      <th>New Hampshire</th>\n",
       "      <td>1343622.0</td>\n",
       "      <td>9.447793e+04</td>\n",
       "      <td>10.874210</td>\n",
       "      <td>0.78243</td>\n",
       "      <td>0.24909</td>\n",
       "    </tr>\n",
       "    <tr>\n",
       "      <th>New Jersey</th>\n",
       "      <td>8881845.0</td>\n",
       "      <td>7.220101e+05</td>\n",
       "      <td>18.783890</td>\n",
       "      <td>1.33210</td>\n",
       "      <td>0.32138</td>\n",
       "    </tr>\n",
       "    <tr>\n",
       "      <th>New Mexico</th>\n",
       "      <td>2073060.0</td>\n",
       "      <td>2.843654e+05</td>\n",
       "      <td>16.967320</td>\n",
       "      <td>1.64915</td>\n",
       "      <td>0.56892</td>\n",
       "    </tr>\n",
       "    <tr>\n",
       "      <th>New York</th>\n",
       "      <td>19613878.0</td>\n",
       "      <td>2.230374e+06</td>\n",
       "      <td>51.053120</td>\n",
       "      <td>4.65638</td>\n",
       "      <td>1.19988</td>\n",
       "    </tr>\n",
       "    <tr>\n",
       "      <th>North Carolina</th>\n",
       "      <td>10116231.0</td>\n",
       "      <td>9.575057e+05</td>\n",
       "      <td>60.987470</td>\n",
       "      <td>5.25270</td>\n",
       "      <td>1.85246</td>\n",
       "    </tr>\n",
       "    <tr>\n",
       "      <th>North Dakota</th>\n",
       "      <td>689319.0</td>\n",
       "      <td>5.441517e+04</td>\n",
       "      <td>30.644350</td>\n",
       "      <td>2.20467</td>\n",
       "      <td>0.65811</td>\n",
       "    </tr>\n",
       "    <tr>\n",
       "      <th>Ohio</th>\n",
       "      <td>11641879.0</td>\n",
       "      <td>1.189571e+06</td>\n",
       "      <td>70.976090</td>\n",
       "      <td>7.72672</td>\n",
       "      <td>1.51542</td>\n",
       "    </tr>\n",
       "    <tr>\n",
       "      <th>Oklahoma</th>\n",
       "      <td>3899504.0</td>\n",
       "      <td>4.843324e+05</td>\n",
       "      <td>56.600880</td>\n",
       "      <td>7.76107</td>\n",
       "      <td>1.25416</td>\n",
       "    </tr>\n",
       "    <tr>\n",
       "      <th>Oregon</th>\n",
       "      <td>4077005.0</td>\n",
       "      <td>3.537189e+05</td>\n",
       "      <td>26.058720</td>\n",
       "      <td>3.23335</td>\n",
       "      <td>0.76810</td>\n",
       "    </tr>\n",
       "    <tr>\n",
       "      <th>Pennsylvania</th>\n",
       "      <td>12791181.0</td>\n",
       "      <td>1.152417e+06</td>\n",
       "      <td>57.819600</td>\n",
       "      <td>4.97970</td>\n",
       "      <td>1.28674</td>\n",
       "    </tr>\n",
       "    <tr>\n",
       "      <th>Rhode Island</th>\n",
       "      <td>1056611.0</td>\n",
       "      <td>9.072420e+04</td>\n",
       "      <td>5.116690</td>\n",
       "      <td>0.32715</td>\n",
       "      <td>0.08907</td>\n",
       "    </tr>\n",
       "    <tr>\n",
       "      <th>South Carolina</th>\n",
       "      <td>4937105.0</td>\n",
       "      <td>5.431483e+05</td>\n",
       "      <td>25.017800</td>\n",
       "      <td>1.74423</td>\n",
       "      <td>0.65380</td>\n",
       "    </tr>\n",
       "    <tr>\n",
       "      <th>South Dakota</th>\n",
       "      <td>766032.0</td>\n",
       "      <td>7.436913e+04</td>\n",
       "      <td>34.749860</td>\n",
       "      <td>2.79332</td>\n",
       "      <td>0.87257</td>\n",
       "    </tr>\n",
       "    <tr>\n",
       "      <th>Tennessee</th>\n",
       "      <td>6618500.0</td>\n",
       "      <td>7.169087e+05</td>\n",
       "      <td>61.545290</td>\n",
       "      <td>6.42536</td>\n",
       "      <td>1.40627</td>\n",
       "    </tr>\n",
       "    <tr>\n",
       "      <th>Texas</th>\n",
       "      <td>27693305.0</td>\n",
       "      <td>3.234833e+06</td>\n",
       "      <td>149.428450</td>\n",
       "      <td>13.14324</td>\n",
       "      <td>3.24294</td>\n",
       "    </tr>\n",
       "    <tr>\n",
       "      <th>Utah</th>\n",
       "      <td>3037790.0</td>\n",
       "      <td>2.308411e+05</td>\n",
       "      <td>25.410760</td>\n",
       "      <td>1.86528</td>\n",
       "      <td>0.36466</td>\n",
       "    </tr>\n",
       "    <tr>\n",
       "      <th>Vermont</th>\n",
       "      <td>611804.0</td>\n",
       "      <td>5.732674e+04</td>\n",
       "      <td>11.329810</td>\n",
       "      <td>1.03541</td>\n",
       "      <td>0.34220</td>\n",
       "    </tr>\n",
       "    <tr>\n",
       "      <th>Virginia</th>\n",
       "      <td>8708298.0</td>\n",
       "      <td>7.484671e+05</td>\n",
       "      <td>90.176450</td>\n",
       "      <td>7.95880</td>\n",
       "      <td>2.26682</td>\n",
       "    </tr>\n",
       "    <tr>\n",
       "      <th>Washington</th>\n",
       "      <td>7283922.0</td>\n",
       "      <td>5.477875e+05</td>\n",
       "      <td>31.165110</td>\n",
       "      <td>3.17912</td>\n",
       "      <td>0.77874</td>\n",
       "    </tr>\n",
       "    <tr>\n",
       "      <th>West Virginia</th>\n",
       "      <td>1775015.0</td>\n",
       "      <td>1.935238e+05</td>\n",
       "      <td>37.831410</td>\n",
       "      <td>4.29506</td>\n",
       "      <td>0.77700</td>\n",
       "    </tr>\n",
       "    <tr>\n",
       "      <th>Wisconsin</th>\n",
       "      <td>5756501.0</td>\n",
       "      <td>4.446600e+05</td>\n",
       "      <td>66.003540</td>\n",
       "      <td>6.07288</td>\n",
       "      <td>1.46483</td>\n",
       "    </tr>\n",
       "    <tr>\n",
       "      <th>Wyoming</th>\n",
       "      <td>579388.0</td>\n",
       "      <td>4.905092e+04</td>\n",
       "      <td>21.752100</td>\n",
       "      <td>1.97695</td>\n",
       "      <td>0.60552</td>\n",
       "    </tr>\n",
       "  </tbody>\n",
       "</table>\n",
       "</div>"
      ],
      "text/plain": [
       "                   pop2018  num_below_p50   ec_county  \\\n",
       "states                                                  \n",
       "Alabama          4800062.0   5.945022e+05   37.006660   \n",
       "Alaska            699092.0   6.882624e+04   15.896420   \n",
       "Arizona          6946685.0   6.506165e+05   10.378920   \n",
       "Arkansas         2920915.0   3.858237e+05   45.995280   \n",
       "California      39144684.0   4.559372e+06   44.986300   \n",
       "Colorado         5455931.0   4.102923e+05   43.112780   \n",
       "Connecticut      3581504.0   2.375277e+05    7.589540   \n",
       "Delaware          949495.0   7.761421e+04    2.344840   \n",
       "Florida         20573040.0   2.031931e+06   43.475460   \n",
       "Georgia         10132707.0   1.071242e+06   83.266520   \n",
       "Hawaii           1421954.0   1.187976e+05    4.165020   \n",
       "Idaho            1658755.0   1.599293e+05   30.791480   \n",
       "Illinois        12791081.0   1.236866e+06   81.232550   \n",
       "Indiana          6637426.0   5.936416e+05   75.756239   \n",
       "Iowa             3116220.0   2.715546e+05   94.318291   \n",
       "Kansas           2821072.0   2.671552e+05   67.822720   \n",
       "Kentucky         4334623.0   4.804756e+05   88.188270   \n",
       "Louisiana        4629842.0   6.802627e+05   42.569710   \n",
       "Maine            1332813.0   1.308165e+05   13.466950   \n",
       "Maryland         6003435.0   5.258774e+05   22.769940   \n",
       "Massachusetts    6830193.0   4.750577e+05   12.999770   \n",
       "Michigan         9928366.0   9.168672e+05   63.622180   \n",
       "Minnesota        5514702.0   3.921926e+05   87.880370   \n",
       "Mississippi      2833064.0   4.517853e+05   42.208420   \n",
       "Missouri         5993300.0   6.334971e+05   84.646800   \n",
       "Montana           992782.0   1.053250e+05   30.199260   \n",
       "Nebraska         1822766.0   1.655595e+05   54.918860   \n",
       "Nevada           2899292.0   2.389760e+05    9.193920   \n",
       "New Hampshire    1343622.0   9.447793e+04   10.874210   \n",
       "New Jersey       8881845.0   7.220101e+05   18.783890   \n",
       "New Mexico       2073060.0   2.843654e+05   16.967320   \n",
       "New York        19613878.0   2.230374e+06   51.053120   \n",
       "North Carolina  10116231.0   9.575057e+05   60.987470   \n",
       "North Dakota      689319.0   5.441517e+04   30.644350   \n",
       "Ohio            11641879.0   1.189571e+06   70.976090   \n",
       "Oklahoma         3899504.0   4.843324e+05   56.600880   \n",
       "Oregon           4077005.0   3.537189e+05   26.058720   \n",
       "Pennsylvania    12791181.0   1.152417e+06   57.819600   \n",
       "Rhode Island     1056611.0   9.072420e+04    5.116690   \n",
       "South Carolina   4937105.0   5.431483e+05   25.017800   \n",
       "South Dakota      766032.0   7.436913e+04   34.749860   \n",
       "Tennessee        6618500.0   7.169087e+05   61.545290   \n",
       "Texas           27693305.0   3.234833e+06  149.428450   \n",
       "Utah             3037790.0   2.308411e+05   25.410760   \n",
       "Vermont           611804.0   5.732674e+04   11.329810   \n",
       "Virginia         8708298.0   7.484671e+05   90.176450   \n",
       "Washington       7283922.0   5.477875e+05   31.165110   \n",
       "West Virginia    1775015.0   1.935238e+05   37.831410   \n",
       "Wisconsin        5756501.0   4.446600e+05   66.003540   \n",
       "Wyoming           579388.0   4.905092e+04   21.752100   \n",
       "\n",
       "                volunteering_rate_county  civic_organizations_county  \n",
       "states                                                                \n",
       "Alabama                          2.62703                     0.91152  \n",
       "Alaska                           2.14754                     0.38115  \n",
       "Arizona                          0.93180                     0.25776  \n",
       "Arkansas                         5.07833                     1.09577  \n",
       "California                       4.20621                     1.02655  \n",
       "Colorado                         3.41552                     1.00424  \n",
       "Connecticut                      0.56224                     0.14553  \n",
       "Delaware                         0.16945                     0.05257  \n",
       "Florida                          3.70898                     1.02865  \n",
       "Georgia                          6.94795                     2.10209  \n",
       "Hawaii                           0.36596                     0.07818  \n",
       "Idaho                            3.37793                     0.63922  \n",
       "Illinois                         8.79771                     1.74041  \n",
       "Indiana                          9.08583                     1.68671  \n",
       "Iowa                             8.42445                     2.04632  \n",
       "Kansas                           7.23702                     1.80047  \n",
       "Kentucky                         7.01691                     1.64706  \n",
       "Louisiana                        3.87435                     0.73021  \n",
       "Maine                            1.47931                     0.41481  \n",
       "Maryland                         1.65616                     0.48794  \n",
       "Massachusetts                    1.07476                     0.30881  \n",
       "Michigan                        10.14815                     1.73108  \n",
       "Minnesota                        6.17743                     1.82268  \n",
       "Mississippi                      2.98153                     0.80061  \n",
       "Missouri                         9.49041                     1.88829  \n",
       "Montana                          2.93830                     0.91847  \n",
       "Nebraska                         4.74756                     1.25126  \n",
       "Nevada                           0.91779                     0.17995  \n",
       "New Hampshire                    0.78243                     0.24909  \n",
       "New Jersey                       1.33210                     0.32138  \n",
       "New Mexico                       1.64915                     0.56892  \n",
       "New York                         4.65638                     1.19988  \n",
       "North Carolina                   5.25270                     1.85246  \n",
       "North Dakota                     2.20467                     0.65811  \n",
       "Ohio                             7.72672                     1.51542  \n",
       "Oklahoma                         7.76107                     1.25416  \n",
       "Oregon                           3.23335                     0.76810  \n",
       "Pennsylvania                     4.97970                     1.28674  \n",
       "Rhode Island                     0.32715                     0.08907  \n",
       "South Carolina                   1.74423                     0.65380  \n",
       "South Dakota                     2.79332                     0.87257  \n",
       "Tennessee                        6.42536                     1.40627  \n",
       "Texas                           13.14324                     3.24294  \n",
       "Utah                             1.86528                     0.36466  \n",
       "Vermont                          1.03541                     0.34220  \n",
       "Virginia                         7.95880                     2.26682  \n",
       "Washington                       3.17912                     0.77874  \n",
       "West Virginia                    4.29506                     0.77700  \n",
       "Wisconsin                        6.07288                     1.46483  \n",
       "Wyoming                          1.97695                     0.60552  "
      ]
     },
     "execution_count": 64,
     "metadata": {},
     "output_type": "execute_result"
    }
   ],
   "source": [
    "# Calculating the sum of all the rows grouped by the state for the barplot\n",
    "bar_data = visual_data.groupby(by = 'states').sum()\n",
    "bar_data"
   ]
  },
  {
   "cell_type": "code",
   "execution_count": 65,
   "metadata": {},
   "outputs": [
    {
     "data": {
      "text/plain": [
       "[Text(0.5, 1.0, 'Population by State')]"
      ]
     },
     "execution_count": 65,
     "metadata": {},
     "output_type": "execute_result"
    },
    {
     "data": {
      "image/png": "[encoded data removed]",
      "text/plain": [
       "<Figure size 432x288 with 1 Axes>"
      ]
     },
     "metadata": {
      "needs_background": "light"
     },
     "output_type": "display_data"
    }
   ],
   "source": [
    "# Plotting a barplot of population distribution of each state of the United States in 2018\n",
    "plot = sns.barplot(data = bar_data, x = bar_data.index, y = 'pop2018')\n",
    "plot.ticklabel_format(axis = 'y', style = 'plain')\n",
    "plot.tick_params(axis = 'x', rotation = 90, labelsize = 7.5)\n",
    "plot.set(title = \"Population by State\")"
   ]
  },
  {
   "cell_type": "code",
   "execution_count": 66,
   "metadata": {},
   "outputs": [
    {
     "data": {
      "text/html": [
       "<div>\n",
       "<style scoped>\n",
       "    .dataframe tbody tr th:only-of-type {\n",
       "        vertical-align: middle;\n",
       "    }\n",
       "\n",
       "    .dataframe tbody tr th {\n",
       "        vertical-align: top;\n",
       "    }\n",
       "\n",
       "    .dataframe thead th {\n",
       "        text-align: right;\n",
       "    }\n",
       "</style>\n",
       "<table border=\"1\" class=\"dataframe\">\n",
       "  <thead>\n",
       "    <tr style=\"text-align: right;\">\n",
       "      <th></th>\n",
       "      <th>pop2018</th>\n",
       "      <th>num_below_p50</th>\n",
       "      <th>ec_county</th>\n",
       "      <th>volunteering_rate_county</th>\n",
       "      <th>civic_organizations_county</th>\n",
       "    </tr>\n",
       "    <tr>\n",
       "      <th>states</th>\n",
       "      <th></th>\n",
       "      <th></th>\n",
       "      <th></th>\n",
       "      <th></th>\n",
       "      <th></th>\n",
       "    </tr>\n",
       "  </thead>\n",
       "  <tbody>\n",
       "    <tr>\n",
       "      <th>Alabama</th>\n",
       "      <td>78689.540984</td>\n",
       "      <td>9745.937448</td>\n",
       "      <td>0.606667</td>\n",
       "      <td>0.043066</td>\n",
       "      <td>0.014943</td>\n",
       "    </tr>\n",
       "    <tr>\n",
       "      <th>Alaska</th>\n",
       "      <td>43693.250000</td>\n",
       "      <td>4301.639745</td>\n",
       "      <td>0.993526</td>\n",
       "      <td>0.134221</td>\n",
       "      <td>0.023822</td>\n",
       "    </tr>\n",
       "    <tr>\n",
       "      <th>Arizona</th>\n",
       "      <td>463112.333333</td>\n",
       "      <td>43374.434769</td>\n",
       "      <td>0.691928</td>\n",
       "      <td>0.062120</td>\n",
       "      <td>0.017184</td>\n",
       "    </tr>\n",
       "    <tr>\n",
       "      <th>Arkansas</th>\n",
       "      <td>44256.287879</td>\n",
       "      <td>5845.812924</td>\n",
       "      <td>0.696898</td>\n",
       "      <td>0.076944</td>\n",
       "      <td>0.016603</td>\n",
       "    </tr>\n",
       "    <tr>\n",
       "      <th>California</th>\n",
       "      <td>699012.214286</td>\n",
       "      <td>81417.349155</td>\n",
       "      <td>0.803327</td>\n",
       "      <td>0.075111</td>\n",
       "      <td>0.018331</td>\n",
       "    </tr>\n",
       "    <tr>\n",
       "      <th>Colorado</th>\n",
       "      <td>121242.911111</td>\n",
       "      <td>9117.605612</td>\n",
       "      <td>0.958062</td>\n",
       "      <td>0.075900</td>\n",
       "      <td>0.022316</td>\n",
       "    </tr>\n",
       "    <tr>\n",
       "      <th>Connecticut</th>\n",
       "      <td>447688.000000</td>\n",
       "      <td>29690.961275</td>\n",
       "      <td>0.948693</td>\n",
       "      <td>0.070280</td>\n",
       "      <td>0.018191</td>\n",
       "    </tr>\n",
       "    <tr>\n",
       "      <th>Delaware</th>\n",
       "      <td>316498.333333</td>\n",
       "      <td>25871.401667</td>\n",
       "      <td>0.781613</td>\n",
       "      <td>0.056483</td>\n",
       "      <td>0.017523</td>\n",
       "    </tr>\n",
       "    <tr>\n",
       "      <th>Florida</th>\n",
       "      <td>316508.307692</td>\n",
       "      <td>31260.469904</td>\n",
       "      <td>0.668853</td>\n",
       "      <td>0.057061</td>\n",
       "      <td>0.015825</td>\n",
       "    </tr>\n",
       "    <tr>\n",
       "      <th>Georgia</th>\n",
       "      <td>75057.088889</td>\n",
       "      <td>7935.125885</td>\n",
       "      <td>0.616789</td>\n",
       "      <td>0.051466</td>\n",
       "      <td>0.015571</td>\n",
       "    </tr>\n",
       "    <tr>\n",
       "      <th>Hawaii</th>\n",
       "      <td>355488.500000</td>\n",
       "      <td>29699.387550</td>\n",
       "      <td>1.041255</td>\n",
       "      <td>0.091490</td>\n",
       "      <td>0.019545</td>\n",
       "    </tr>\n",
       "    <tr>\n",
       "      <th>Idaho</th>\n",
       "      <td>46076.527778</td>\n",
       "      <td>4442.480793</td>\n",
       "      <td>0.855319</td>\n",
       "      <td>0.093831</td>\n",
       "      <td>0.017756</td>\n",
       "    </tr>\n",
       "    <tr>\n",
       "      <th>Illinois</th>\n",
       "      <td>133240.427083</td>\n",
       "      <td>12884.019099</td>\n",
       "      <td>0.846172</td>\n",
       "      <td>0.091643</td>\n",
       "      <td>0.018129</td>\n",
       "    </tr>\n",
       "    <tr>\n",
       "      <th>Indiana</th>\n",
       "      <td>72145.934783</td>\n",
       "      <td>6452.625919</td>\n",
       "      <td>0.823437</td>\n",
       "      <td>0.098759</td>\n",
       "      <td>0.018334</td>\n",
       "    </tr>\n",
       "    <tr>\n",
       "      <th>Iowa</th>\n",
       "      <td>32460.625000</td>\n",
       "      <td>2828.693644</td>\n",
       "      <td>0.982482</td>\n",
       "      <td>0.087755</td>\n",
       "      <td>0.021316</td>\n",
       "    </tr>\n",
       "    <tr>\n",
       "      <th>Kansas</th>\n",
       "      <td>38644.821918</td>\n",
       "      <td>3659.660318</td>\n",
       "      <td>0.929078</td>\n",
       "      <td>0.099137</td>\n",
       "      <td>0.024664</td>\n",
       "    </tr>\n",
       "    <tr>\n",
       "      <th>Kentucky</th>\n",
       "      <td>40892.669811</td>\n",
       "      <td>4532.788731</td>\n",
       "      <td>0.831965</td>\n",
       "      <td>0.066197</td>\n",
       "      <td>0.015538</td>\n",
       "    </tr>\n",
       "    <tr>\n",
       "      <th>Louisiana</th>\n",
       "      <td>77164.033333</td>\n",
       "      <td>11337.711257</td>\n",
       "      <td>0.709495</td>\n",
       "      <td>0.064572</td>\n",
       "      <td>0.012170</td>\n",
       "    </tr>\n",
       "    <tr>\n",
       "      <th>Maine</th>\n",
       "      <td>83300.812500</td>\n",
       "      <td>8176.032713</td>\n",
       "      <td>0.841684</td>\n",
       "      <td>0.092457</td>\n",
       "      <td>0.025926</td>\n",
       "    </tr>\n",
       "    <tr>\n",
       "      <th>Maryland</th>\n",
       "      <td>250143.125000</td>\n",
       "      <td>21911.558996</td>\n",
       "      <td>0.948747</td>\n",
       "      <td>0.069007</td>\n",
       "      <td>0.020331</td>\n",
       "    </tr>\n",
       "    <tr>\n",
       "      <th>Massachusetts</th>\n",
       "      <td>487870.928571</td>\n",
       "      <td>33932.691985</td>\n",
       "      <td>0.928555</td>\n",
       "      <td>0.076769</td>\n",
       "      <td>0.022058</td>\n",
       "    </tr>\n",
       "    <tr>\n",
       "      <th>Michigan</th>\n",
       "      <td>125675.518987</td>\n",
       "      <td>11605.914123</td>\n",
       "      <td>0.805344</td>\n",
       "      <td>0.128458</td>\n",
       "      <td>0.021912</td>\n",
       "    </tr>\n",
       "    <tr>\n",
       "      <th>Minnesota</th>\n",
       "      <td>65651.214286</td>\n",
       "      <td>4668.960022</td>\n",
       "      <td>1.046195</td>\n",
       "      <td>0.073541</td>\n",
       "      <td>0.021699</td>\n",
       "    </tr>\n",
       "    <tr>\n",
       "      <th>Mississippi</th>\n",
       "      <td>43585.600000</td>\n",
       "      <td>6950.543658</td>\n",
       "      <td>0.649360</td>\n",
       "      <td>0.045870</td>\n",
       "      <td>0.012317</td>\n",
       "    </tr>\n",
       "    <tr>\n",
       "      <th>Missouri</th>\n",
       "      <td>59933.000000</td>\n",
       "      <td>6334.970757</td>\n",
       "      <td>0.846468</td>\n",
       "      <td>0.094904</td>\n",
       "      <td>0.018883</td>\n",
       "    </tr>\n",
       "    <tr>\n",
       "      <th>Montana</th>\n",
       "      <td>28365.200000</td>\n",
       "      <td>3009.287029</td>\n",
       "      <td>0.862836</td>\n",
       "      <td>0.083951</td>\n",
       "      <td>0.026242</td>\n",
       "    </tr>\n",
       "    <tr>\n",
       "      <th>Nebraska</th>\n",
       "      <td>31978.350877</td>\n",
       "      <td>2904.553463</td>\n",
       "      <td>0.963489</td>\n",
       "      <td>0.083291</td>\n",
       "      <td>0.021952</td>\n",
       "    </tr>\n",
       "    <tr>\n",
       "      <th>Nevada</th>\n",
       "      <td>263572.000000</td>\n",
       "      <td>21725.092975</td>\n",
       "      <td>0.835811</td>\n",
       "      <td>0.083435</td>\n",
       "      <td>0.016359</td>\n",
       "    </tr>\n",
       "    <tr>\n",
       "      <th>New Hampshire</th>\n",
       "      <td>134362.200000</td>\n",
       "      <td>9447.793310</td>\n",
       "      <td>1.087421</td>\n",
       "      <td>0.078243</td>\n",
       "      <td>0.024909</td>\n",
       "    </tr>\n",
       "    <tr>\n",
       "      <th>New Jersey</th>\n",
       "      <td>422945.000000</td>\n",
       "      <td>34381.431752</td>\n",
       "      <td>0.894471</td>\n",
       "      <td>0.063433</td>\n",
       "      <td>0.015304</td>\n",
       "    </tr>\n",
       "    <tr>\n",
       "      <th>New Mexico</th>\n",
       "      <td>76780.000000</td>\n",
       "      <td>10532.052368</td>\n",
       "      <td>0.628419</td>\n",
       "      <td>0.061080</td>\n",
       "      <td>0.021071</td>\n",
       "    </tr>\n",
       "    <tr>\n",
       "      <th>New York</th>\n",
       "      <td>321538.983607</td>\n",
       "      <td>36563.509167</td>\n",
       "      <td>0.836936</td>\n",
       "      <td>0.076334</td>\n",
       "      <td>0.019670</td>\n",
       "    </tr>\n",
       "    <tr>\n",
       "      <th>North Carolina</th>\n",
       "      <td>105377.406250</td>\n",
       "      <td>9974.017878</td>\n",
       "      <td>0.635286</td>\n",
       "      <td>0.054716</td>\n",
       "      <td>0.019296</td>\n",
       "    </tr>\n",
       "    <tr>\n",
       "      <th>North Dakota</th>\n",
       "      <td>23769.620690</td>\n",
       "      <td>1876.385322</td>\n",
       "      <td>1.056702</td>\n",
       "      <td>0.076023</td>\n",
       "      <td>0.022693</td>\n",
       "    </tr>\n",
       "    <tr>\n",
       "      <th>Ohio</th>\n",
       "      <td>132294.079545</td>\n",
       "      <td>13517.855835</td>\n",
       "      <td>0.806546</td>\n",
       "      <td>0.087804</td>\n",
       "      <td>0.017221</td>\n",
       "    </tr>\n",
       "    <tr>\n",
       "      <th>Oklahoma</th>\n",
       "      <td>54159.777778</td>\n",
       "      <td>6726.839175</td>\n",
       "      <td>0.786123</td>\n",
       "      <td>0.107793</td>\n",
       "      <td>0.017419</td>\n",
       "    </tr>\n",
       "    <tr>\n",
       "      <th>Oregon</th>\n",
       "      <td>123545.606061</td>\n",
       "      <td>10718.755045</td>\n",
       "      <td>0.789658</td>\n",
       "      <td>0.097980</td>\n",
       "      <td>0.023276</td>\n",
       "    </tr>\n",
       "    <tr>\n",
       "      <th>Pennsylvania</th>\n",
       "      <td>190913.149254</td>\n",
       "      <td>17200.246883</td>\n",
       "      <td>0.862979</td>\n",
       "      <td>0.074324</td>\n",
       "      <td>0.019205</td>\n",
       "    </tr>\n",
       "    <tr>\n",
       "      <th>Rhode Island</th>\n",
       "      <td>211322.200000</td>\n",
       "      <td>18144.839200</td>\n",
       "      <td>1.023338</td>\n",
       "      <td>0.065430</td>\n",
       "      <td>0.017814</td>\n",
       "    </tr>\n",
       "    <tr>\n",
       "      <th>South Carolina</th>\n",
       "      <td>112206.931818</td>\n",
       "      <td>12344.278770</td>\n",
       "      <td>0.568586</td>\n",
       "      <td>0.039642</td>\n",
       "      <td>0.014859</td>\n",
       "    </tr>\n",
       "    <tr>\n",
       "      <th>South Dakota</th>\n",
       "      <td>21278.666667</td>\n",
       "      <td>2065.809273</td>\n",
       "      <td>0.965274</td>\n",
       "      <td>0.077592</td>\n",
       "      <td>0.024238</td>\n",
       "    </tr>\n",
       "    <tr>\n",
       "      <th>Tennessee</th>\n",
       "      <td>73538.888889</td>\n",
       "      <td>7965.652502</td>\n",
       "      <td>0.683837</td>\n",
       "      <td>0.071393</td>\n",
       "      <td>0.015625</td>\n",
       "    </tr>\n",
       "    <tr>\n",
       "      <th>Texas</th>\n",
       "      <td>141292.372449</td>\n",
       "      <td>16504.249568</td>\n",
       "      <td>0.762390</td>\n",
       "      <td>0.067057</td>\n",
       "      <td>0.016546</td>\n",
       "    </tr>\n",
       "    <tr>\n",
       "      <th>Utah</th>\n",
       "      <td>121511.600000</td>\n",
       "      <td>9233.645643</td>\n",
       "      <td>1.016430</td>\n",
       "      <td>0.074611</td>\n",
       "      <td>0.014586</td>\n",
       "    </tr>\n",
       "    <tr>\n",
       "      <th>Vermont</th>\n",
       "      <td>50983.666667</td>\n",
       "      <td>4777.228517</td>\n",
       "      <td>0.944151</td>\n",
       "      <td>0.086284</td>\n",
       "      <td>0.028517</td>\n",
       "    </tr>\n",
       "    <tr>\n",
       "      <th>Virginia</th>\n",
       "      <td>79892.642202</td>\n",
       "      <td>6866.670228</td>\n",
       "      <td>0.827307</td>\n",
       "      <td>0.073017</td>\n",
       "      <td>0.020797</td>\n",
       "    </tr>\n",
       "    <tr>\n",
       "      <th>Washington</th>\n",
       "      <td>202331.166667</td>\n",
       "      <td>15216.318154</td>\n",
       "      <td>0.865698</td>\n",
       "      <td>0.088309</td>\n",
       "      <td>0.021632</td>\n",
       "    </tr>\n",
       "    <tr>\n",
       "      <th>West Virginia</th>\n",
       "      <td>36979.479167</td>\n",
       "      <td>4031.746233</td>\n",
       "      <td>0.788154</td>\n",
       "      <td>0.089480</td>\n",
       "      <td>0.016188</td>\n",
       "    </tr>\n",
       "    <tr>\n",
       "      <th>Wisconsin</th>\n",
       "      <td>84654.426471</td>\n",
       "      <td>6539.118007</td>\n",
       "      <td>0.970640</td>\n",
       "      <td>0.089307</td>\n",
       "      <td>0.021542</td>\n",
       "    </tr>\n",
       "    <tr>\n",
       "      <th>Wyoming</th>\n",
       "      <td>26335.818182</td>\n",
       "      <td>2229.587462</td>\n",
       "      <td>0.988732</td>\n",
       "      <td>0.089861</td>\n",
       "      <td>0.027524</td>\n",
       "    </tr>\n",
       "  </tbody>\n",
       "</table>\n",
       "</div>"
      ],
      "text/plain": [
       "                      pop2018  num_below_p50  ec_county  \\\n",
       "states                                                    \n",
       "Alabama          78689.540984    9745.937448   0.606667   \n",
       "Alaska           43693.250000    4301.639745   0.993526   \n",
       "Arizona         463112.333333   43374.434769   0.691928   \n",
       "Arkansas         44256.287879    5845.812924   0.696898   \n",
       "California      699012.214286   81417.349155   0.803327   \n",
       "Colorado        121242.911111    9117.605612   0.958062   \n",
       "Connecticut     447688.000000   29690.961275   0.948693   \n",
       "Delaware        316498.333333   25871.401667   0.781613   \n",
       "Florida         316508.307692   31260.469904   0.668853   \n",
       "Georgia          75057.088889    7935.125885   0.616789   \n",
       "Hawaii          355488.500000   29699.387550   1.041255   \n",
       "Idaho            46076.527778    4442.480793   0.855319   \n",
       "Illinois        133240.427083   12884.019099   0.846172   \n",
       "Indiana          72145.934783    6452.625919   0.823437   \n",
       "Iowa             32460.625000    2828.693644   0.982482   \n",
       "Kansas           38644.821918    3659.660318   0.929078   \n",
       "Kentucky         40892.669811    4532.788731   0.831965   \n",
       "Louisiana        77164.033333   11337.711257   0.709495   \n",
       "Maine            83300.812500    8176.032713   0.841684   \n",
       "Maryland        250143.125000   21911.558996   0.948747   \n",
       "Massachusetts   487870.928571   33932.691985   0.928555   \n",
       "Michigan        125675.518987   11605.914123   0.805344   \n",
       "Minnesota        65651.214286    4668.960022   1.046195   \n",
       "Mississippi      43585.600000    6950.543658   0.649360   \n",
       "Missouri         59933.000000    6334.970757   0.846468   \n",
       "Montana          28365.200000    3009.287029   0.862836   \n",
       "Nebraska         31978.350877    2904.553463   0.963489   \n",
       "Nevada          263572.000000   21725.092975   0.835811   \n",
       "New Hampshire   134362.200000    9447.793310   1.087421   \n",
       "New Jersey      422945.000000   34381.431752   0.894471   \n",
       "New Mexico       76780.000000   10532.052368   0.628419   \n",
       "New York        321538.983607   36563.509167   0.836936   \n",
       "North Carolina  105377.406250    9974.017878   0.635286   \n",
       "North Dakota     23769.620690    1876.385322   1.056702   \n",
       "Ohio            132294.079545   13517.855835   0.806546   \n",
       "Oklahoma         54159.777778    6726.839175   0.786123   \n",
       "Oregon          123545.606061   10718.755045   0.789658   \n",
       "Pennsylvania    190913.149254   17200.246883   0.862979   \n",
       "Rhode Island    211322.200000   18144.839200   1.023338   \n",
       "South Carolina  112206.931818   12344.278770   0.568586   \n",
       "South Dakota     21278.666667    2065.809273   0.965274   \n",
       "Tennessee        73538.888889    7965.652502   0.683837   \n",
       "Texas           141292.372449   16504.249568   0.762390   \n",
       "Utah            121511.600000    9233.645643   1.016430   \n",
       "Vermont          50983.666667    4777.228517   0.944151   \n",
       "Virginia         79892.642202    6866.670228   0.827307   \n",
       "Washington      202331.166667   15216.318154   0.865698   \n",
       "West Virginia    36979.479167    4031.746233   0.788154   \n",
       "Wisconsin        84654.426471    6539.118007   0.970640   \n",
       "Wyoming          26335.818182    2229.587462   0.988732   \n",
       "\n",
       "                volunteering_rate_county  civic_organizations_county  \n",
       "states                                                                \n",
       "Alabama                         0.043066                    0.014943  \n",
       "Alaska                          0.134221                    0.023822  \n",
       "Arizona                         0.062120                    0.017184  \n",
       "Arkansas                        0.076944                    0.016603  \n",
       "California                      0.075111                    0.018331  \n",
       "Colorado                        0.075900                    0.022316  \n",
       "Connecticut                     0.070280                    0.018191  \n",
       "Delaware                        0.056483                    0.017523  \n",
       "Florida                         0.057061                    0.015825  \n",
       "Georgia                         0.051466                    0.015571  \n",
       "Hawaii                          0.091490                    0.019545  \n",
       "Idaho                           0.093831                    0.017756  \n",
       "Illinois                        0.091643                    0.018129  \n",
       "Indiana                         0.098759                    0.018334  \n",
       "Iowa                            0.087755                    0.021316  \n",
       "Kansas                          0.099137                    0.024664  \n",
       "Kentucky                        0.066197                    0.015538  \n",
       "Louisiana                       0.064572                    0.012170  \n",
       "Maine                           0.092457                    0.025926  \n",
       "Maryland                        0.069007                    0.020331  \n",
       "Massachusetts                   0.076769                    0.022058  \n",
       "Michigan                        0.128458                    0.021912  \n",
       "Minnesota                       0.073541                    0.021699  \n",
       "Mississippi                     0.045870                    0.012317  \n",
       "Missouri                        0.094904                    0.018883  \n",
       "Montana                         0.083951                    0.026242  \n",
       "Nebraska                        0.083291                    0.021952  \n",
       "Nevada                          0.083435                    0.016359  \n",
       "New Hampshire                   0.078243                    0.024909  \n",
       "New Jersey                      0.063433                    0.015304  \n",
       "New Mexico                      0.061080                    0.021071  \n",
       "New York                        0.076334                    0.019670  \n",
       "North Carolina                  0.054716                    0.019296  \n",
       "North Dakota                    0.076023                    0.022693  \n",
       "Ohio                            0.087804                    0.017221  \n",
       "Oklahoma                        0.107793                    0.017419  \n",
       "Oregon                          0.097980                    0.023276  \n",
       "Pennsylvania                    0.074324                    0.019205  \n",
       "Rhode Island                    0.065430                    0.017814  \n",
       "South Carolina                  0.039642                    0.014859  \n",
       "South Dakota                    0.077592                    0.024238  \n",
       "Tennessee                       0.071393                    0.015625  \n",
       "Texas                           0.067057                    0.016546  \n",
       "Utah                            0.074611                    0.014586  \n",
       "Vermont                         0.086284                    0.028517  \n",
       "Virginia                        0.073017                    0.020797  \n",
       "Washington                      0.088309                    0.021632  \n",
       "West Virginia                   0.089480                    0.016188  \n",
       "Wisconsin                       0.089307                    0.021542  \n",
       "Wyoming                         0.089861                    0.027524  "
      ]
     },
     "execution_count": 66,
     "metadata": {},
     "output_type": "execute_result"
    }
   ],
   "source": [
    "# Calculating the mean of all the rows grouped by the state for the lineplot\n",
    "line_data = visual_data.groupby(by = 'states').mean()\n",
    "line_data"
   ]
  },
  {
   "cell_type": "code",
   "execution_count": 67,
   "metadata": {},
   "outputs": [
    {
     "data": {
      "image/png": "[encoded data removed]",
      "text/plain": [
       "<Figure size 432x288 with 1 Axes>"
      ]
     },
     "metadata": {
      "needs_background": "light"
     },
     "output_type": "display_data"
    },
    {
     "name": "stdout",
     "output_type": "stream",
     "text": [
      "0.5685863613636364\n"
     ]
    }
   ],
   "source": [
    "# Plotting the Average economic connectedness across all states in the United States\n",
    "x_axis = line_data.index\n",
    "y_axis = line_data['ec_county']\n",
    "plt.plot(x_axis, y_axis)\n",
    "plt.title(\"Average economic connectedness per state\")\n",
    "plt.ylabel(\"economic connectedness\")\n",
    "plt.xlabel(\"States\")\n",
    "plt.tick_params(axis = 'x', rotation = 90, labelsize = 7.5)\n",
    "plt.show()\n",
    "print(min(line_data['ec_county']))"
   ]
  },
  {
   "attachments": {},
   "cell_type": "markdown",
   "id": "0ce299a8",
   "metadata": {},
   "source": [
    "## Geocoding"
   ]
  },
  {
   "cell_type": "code",
   "execution_count": 68,
   "metadata": {},
   "outputs": [
    {
     "data": {
      "text/plain": [
       "states\n",
       "Alabama           (Alabama, United States, (33.2588817, -86.8295...\n",
       "Alaska            (Alaska, United States, (64.4459613, -149.6809...\n",
       "Arizona           (Arizona, United States, (34.395342, -111.7632...\n",
       "Arkansas          (Arkansas, United States, (35.2048883, -92.447...\n",
       "California        (California, United States, (36.7014631, -118....\n",
       "Colorado          (Colorado, United States, (38.7251776, -105.60...\n",
       "Connecticut       (Connecticut, United States, (41.6500201, -72....\n",
       "Delaware          (Delaware, United States, (38.6920451, -75.401...\n",
       "Florida           (Florida, United States, (27.7567667, -81.4639...\n",
       "Georgia           (Georgia, United States, (32.3293809, -83.1137...\n",
       "Hawaii            (Hawaii, United States, (19.593801499999998, -...\n",
       "Idaho             (Idaho, United States, (43.6447642, -114.015407))\n",
       "Illinois          (Illinois, United States, (40.0796606, -89.433...\n",
       "Indiana           (Indiana, United States, (40.3270127, -86.1746...\n",
       "Iowa               (Iowa, United States, (41.9216734, -93.3122705))\n",
       "Kansas             (Kansas, United States, (38.27312, -98.5821872))\n",
       "Kentucky          (Kentucky, United States, (37.5726028, -85.155...\n",
       "Louisiana         (Louisiana, United States, (30.8703881, -92.00...\n",
       "Maine              (Maine, United States, (45.709097, -68.8590201))\n",
       "Maryland          (Maryland, United States, (39.5162401, -76.938...\n",
       "Massachusetts     (Massachusetts, United States, (42.3788774, -7...\n",
       "Michigan          (Michigan, United States, (43.6211955, -84.682...\n",
       "Minnesota         (Minnesota, United States, (45.9896587, -94.61...\n",
       "Mississippi       (Mississippi, United States, (32.9715285, -89....\n",
       "Missouri          (Missouri, United States, (38.7604815, -92.561...\n",
       "Montana           (Montana, United States, (47.3752671, -109.638...\n",
       "Nebraska          (Nebraska, United States, (41.7370229, -99.587...\n",
       "Nevada            (Nevada, United States, (39.5158825, -116.8537...\n",
       "New Hampshire     (New Hampshire, United States, (43.4849133, -7...\n",
       "New Jersey        (New Jersey, United States, (40.0757384, -74.4...\n",
       "New Mexico        (New Mexico, United States, (34.5708167, -105....\n",
       "New York          (City of New York, New York, United States, (4...\n",
       "North Carolina    (North Carolina, United States, (35.6729639, -...\n",
       "North Dakota      (North Dakota, United States, (47.6201461, -10...\n",
       "Ohio               (Ohio, United States, (40.2253569, -82.6881395))\n",
       "Oklahoma          (Oklahoma, United States, (34.9550817, -97.268...\n",
       "Oregon            (Oregon, United States, (43.9792797, -120.7372...\n",
       "Pennsylvania      (Pennsylvania, United States, (40.9699889, -77...\n",
       "Rhode Island      (Rhode Island, United States, (41.7962409, -71...\n",
       "South Carolina    (South Carolina, United States, (33.6874388, -...\n",
       "South Dakota      (South Dakota, United States, (44.6471761, -10...\n",
       "Tennessee         (Tennessee, United States, (35.7730076, -86.28...\n",
       "Texas             (Texas, United States, (31.2638905, -98.5456116))\n",
       "Utah               (Utah, United States, (39.4225192, -111.714358))\n",
       "Vermont           (Vermont, United States, (44.5990718, -72.5002...\n",
       "Virginia          (Virginia, United States, (37.1232245, -78.492...\n",
       "Washington        (Washington, District of Columbia, United Stat...\n",
       "West Virginia     (West Virginia, United States, (38.4758406, -8...\n",
       "Wisconsin         (Wisconsin, United States, (44.4308975, -89.68...\n",
       "Wyoming           (Wyoming, United States, (43.1700264, -107.568...\n",
       "Name: location, dtype: object"
      ]
     },
     "execution_count": 68,
     "metadata": {},
     "output_type": "execute_result"
    }
   ],
   "source": [
    "# Using the geolocator.geocode function to get the geocode of all the states of United States\n",
    "geolocator = Nominatim(user_agent = \"cics397a\")\n",
    "geo_data = visual_data.groupby(by = 'states').mean()\n",
    "geo_data.dropna(inplace = True)\n",
    "states = geo_data.index\n",
    "geo_data['location'] = geo_data.index.map(geolocator.geocode)\n",
    "geo_data = geo_data[geo_data['location'].notna()]\n",
    "geo_data['location']"
   ]
  },
  {
   "cell_type": "code",
   "execution_count": 69,
   "metadata": {},
   "outputs": [
    {
     "name": "stdout",
     "output_type": "stream",
     "text": [
      "                      pop2018  num_below_p50  ec_county  \\\n",
      "states                                                    \n",
      "Alabama          78689.540984    9745.937448   0.606667   \n",
      "Alaska           43693.250000    4301.639745   0.993526   \n",
      "Arizona         463112.333333   43374.434769   0.691928   \n",
      "Arkansas         44256.287879    5845.812924   0.696898   \n",
      "California      699012.214286   81417.349155   0.803327   \n",
      "Colorado        121242.911111    9117.605612   0.958062   \n",
      "Connecticut     447688.000000   29690.961275   0.948693   \n",
      "Delaware        316498.333333   25871.401667   0.781613   \n",
      "Florida         316508.307692   31260.469904   0.668853   \n",
      "Georgia          75057.088889    7935.125885   0.616789   \n",
      "Hawaii          355488.500000   29699.387550   1.041255   \n",
      "Idaho            46076.527778    4442.480793   0.855319   \n",
      "Illinois        133240.427083   12884.019099   0.846172   \n",
      "Indiana          72145.934783    6452.625919   0.823437   \n",
      "Iowa             32460.625000    2828.693644   0.982482   \n",
      "Kansas           38644.821918    3659.660318   0.929078   \n",
      "Kentucky         40892.669811    4532.788731   0.831965   \n",
      "Louisiana        77164.033333   11337.711257   0.709495   \n",
      "Maine            83300.812500    8176.032713   0.841684   \n",
      "Maryland        250143.125000   21911.558996   0.948747   \n",
      "Massachusetts   487870.928571   33932.691985   0.928555   \n",
      "Michigan        125675.518987   11605.914123   0.805344   \n",
      "Minnesota        65651.214286    4668.960022   1.046195   \n",
      "Mississippi      43585.600000    6950.543658   0.649360   \n",
      "Missouri         59933.000000    6334.970757   0.846468   \n",
      "Montana          28365.200000    3009.287029   0.862836   \n",
      "Nebraska         31978.350877    2904.553463   0.963489   \n",
      "Nevada          263572.000000   21725.092975   0.835811   \n",
      "New Hampshire   134362.200000    9447.793310   1.087421   \n",
      "New Jersey      422945.000000   34381.431752   0.894471   \n",
      "New Mexico       76780.000000   10532.052368   0.628419   \n",
      "New York        321538.983607   36563.509167   0.836936   \n",
      "North Carolina  105377.406250    9974.017878   0.635286   \n",
      "North Dakota     23769.620690    1876.385322   1.056702   \n",
      "Ohio            132294.079545   13517.855835   0.806546   \n",
      "Oklahoma         54159.777778    6726.839175   0.786123   \n",
      "Oregon          123545.606061   10718.755045   0.789658   \n",
      "Pennsylvania    190913.149254   17200.246883   0.862979   \n",
      "Rhode Island    211322.200000   18144.839200   1.023338   \n",
      "South Carolina  112206.931818   12344.278770   0.568586   \n",
      "South Dakota     21278.666667    2065.809273   0.965274   \n",
      "Tennessee        73538.888889    7965.652502   0.683837   \n",
      "Texas           141292.372449   16504.249568   0.762390   \n",
      "Utah            121511.600000    9233.645643   1.016430   \n",
      "Vermont          50983.666667    4777.228517   0.944151   \n",
      "Virginia         79892.642202    6866.670228   0.827307   \n",
      "Washington      202331.166667   15216.318154   0.865698   \n",
      "West Virginia    36979.479167    4031.746233   0.788154   \n",
      "Wisconsin        84654.426471    6539.118007   0.970640   \n",
      "Wyoming          26335.818182    2229.587462   0.988732   \n",
      "\n",
      "                volunteering_rate_county  civic_organizations_county  \\\n",
      "states                                                                 \n",
      "Alabama                         0.043066                    0.014943   \n",
      "Alaska                          0.134221                    0.023822   \n",
      "Arizona                         0.062120                    0.017184   \n",
      "Arkansas                        0.076944                    0.016603   \n",
      "California                      0.075111                    0.018331   \n",
      "Colorado                        0.075900                    0.022316   \n",
      "Connecticut                     0.070280                    0.018191   \n",
      "Delaware                        0.056483                    0.017523   \n",
      "Florida                         0.057061                    0.015825   \n",
      "Georgia                         0.051466                    0.015571   \n",
      "Hawaii                          0.091490                    0.019545   \n",
      "Idaho                           0.093831                    0.017756   \n",
      "Illinois                        0.091643                    0.018129   \n",
      "Indiana                         0.098759                    0.018334   \n",
      "Iowa                            0.087755                    0.021316   \n",
      "Kansas                          0.099137                    0.024664   \n",
      "Kentucky                        0.066197                    0.015538   \n",
      "Louisiana                       0.064572                    0.012170   \n",
      "Maine                           0.092457                    0.025926   \n",
      "Maryland                        0.069007                    0.020331   \n",
      "Massachusetts                   0.076769                    0.022058   \n",
      "Michigan                        0.128458                    0.021912   \n",
      "Minnesota                       0.073541                    0.021699   \n",
      "Mississippi                     0.045870                    0.012317   \n",
      "Missouri                        0.094904                    0.018883   \n",
      "Montana                         0.083951                    0.026242   \n",
      "Nebraska                        0.083291                    0.021952   \n",
      "Nevada                          0.083435                    0.016359   \n",
      "New Hampshire                   0.078243                    0.024909   \n",
      "New Jersey                      0.063433                    0.015304   \n",
      "New Mexico                      0.061080                    0.021071   \n",
      "New York                        0.076334                    0.019670   \n",
      "North Carolina                  0.054716                    0.019296   \n",
      "North Dakota                    0.076023                    0.022693   \n",
      "Ohio                            0.087804                    0.017221   \n",
      "Oklahoma                        0.107793                    0.017419   \n",
      "Oregon                          0.097980                    0.023276   \n",
      "Pennsylvania                    0.074324                    0.019205   \n",
      "Rhode Island                    0.065430                    0.017814   \n",
      "South Carolina                  0.039642                    0.014859   \n",
      "South Dakota                    0.077592                    0.024238   \n",
      "Tennessee                       0.071393                    0.015625   \n",
      "Texas                           0.067057                    0.016546   \n",
      "Utah                            0.074611                    0.014586   \n",
      "Vermont                         0.086284                    0.028517   \n",
      "Virginia                        0.073017                    0.020797   \n",
      "Washington                      0.088309                    0.021632   \n",
      "West Virginia                   0.089480                    0.016188   \n",
      "Wisconsin                       0.089307                    0.021542   \n",
      "Wyoming                         0.089861                    0.027524   \n",
      "\n",
      "                                                         location        lat  \\\n",
      "states                                                                         \n",
      "Alabama         (Alabama, United States, (33.2588817, -86.8295...  33.258882   \n",
      "Alaska          (Alaska, United States, (64.4459613, -149.6809...  64.445961   \n",
      "Arizona         (Arizona, United States, (34.395342, -111.7632...  34.395342   \n",
      "Arkansas        (Arkansas, United States, (35.2048883, -92.447...  35.204888   \n",
      "California      (California, United States, (36.7014631, -118....  36.701463   \n",
      "Colorado        (Colorado, United States, (38.7251776, -105.60...  38.725178   \n",
      "Connecticut     (Connecticut, United States, (41.6500201, -72....  41.650020   \n",
      "Delaware        (Delaware, United States, (38.6920451, -75.401...  38.692045   \n",
      "Florida         (Florida, United States, (27.7567667, -81.4639...  27.756767   \n",
      "Georgia         (Georgia, United States, (32.3293809, -83.1137...  32.329381   \n",
      "Hawaii          (Hawaii, United States, (19.593801499999998, -...  19.593801   \n",
      "Idaho           (Idaho, United States, (43.6447642, -114.015407))  43.644764   \n",
      "Illinois        (Illinois, United States, (40.0796606, -89.433...  40.079661   \n",
      "Indiana         (Indiana, United States, (40.3270127, -86.1746...  40.327013   \n",
      "Iowa             (Iowa, United States, (41.9216734, -93.3122705))  41.921673   \n",
      "Kansas           (Kansas, United States, (38.27312, -98.5821872))  38.273120   \n",
      "Kentucky        (Kentucky, United States, (37.5726028, -85.155...  37.572603   \n",
      "Louisiana       (Louisiana, United States, (30.8703881, -92.00...  30.870388   \n",
      "Maine            (Maine, United States, (45.709097, -68.8590201))  45.709097   \n",
      "Maryland        (Maryland, United States, (39.5162401, -76.938...  39.516240   \n",
      "Massachusetts   (Massachusetts, United States, (42.3788774, -7...  42.378877   \n",
      "Michigan        (Michigan, United States, (43.6211955, -84.682...  43.621195   \n",
      "Minnesota       (Minnesota, United States, (45.9896587, -94.61...  45.989659   \n",
      "Mississippi     (Mississippi, United States, (32.9715285, -89....  32.971528   \n",
      "Missouri        (Missouri, United States, (38.7604815, -92.561...  38.760481   \n",
      "Montana         (Montana, United States, (47.3752671, -109.638...  47.375267   \n",
      "Nebraska        (Nebraska, United States, (41.7370229, -99.587...  41.737023   \n",
      "Nevada          (Nevada, United States, (39.5158825, -116.8537...  39.515882   \n",
      "New Hampshire   (New Hampshire, United States, (43.4849133, -7...  43.484913   \n",
      "New Jersey      (New Jersey, United States, (40.0757384, -74.4...  40.075738   \n",
      "New Mexico      (New Mexico, United States, (34.5708167, -105....  34.570817   \n",
      "New York        (City of New York, New York, United States, (4...  40.712728   \n",
      "North Carolina  (North Carolina, United States, (35.6729639, -...  35.672964   \n",
      "North Dakota    (North Dakota, United States, (47.6201461, -10...  47.620146   \n",
      "Ohio             (Ohio, United States, (40.2253569, -82.6881395))  40.225357   \n",
      "Oklahoma        (Oklahoma, United States, (34.9550817, -97.268...  34.955082   \n",
      "Oregon          (Oregon, United States, (43.9792797, -120.7372...  43.979280   \n",
      "Pennsylvania    (Pennsylvania, United States, (40.9699889, -77...  40.969989   \n",
      "Rhode Island    (Rhode Island, United States, (41.7962409, -71...  41.796241   \n",
      "South Carolina  (South Carolina, United States, (33.6874388, -...  33.687439   \n",
      "South Dakota    (South Dakota, United States, (44.6471761, -10...  44.647176   \n",
      "Tennessee       (Tennessee, United States, (35.7730076, -86.28...  35.773008   \n",
      "Texas           (Texas, United States, (31.2638905, -98.5456116))  31.263890   \n",
      "Utah             (Utah, United States, (39.4225192, -111.714358))  39.422519   \n",
      "Vermont         (Vermont, United States, (44.5990718, -72.5002...  44.599072   \n",
      "Virginia        (Virginia, United States, (37.1232245, -78.492...  37.123224   \n",
      "Washington      (Washington, District of Columbia, United Stat...  38.895037   \n",
      "West Virginia   (West Virginia, United States, (38.4758406, -8...  38.475841   \n",
      "Wisconsin       (Wisconsin, United States, (44.4308975, -89.68...  44.430898   \n",
      "Wyoming         (Wyoming, United States, (43.1700264, -107.568...  43.170026   \n",
      "\n",
      "                       lon  \n",
      "states                      \n",
      "Alabama         -86.829534  \n",
      "Alaska         -149.680909  \n",
      "Arizona        -111.763275  \n",
      "Arkansas        -92.447911  \n",
      "California     -118.755997  \n",
      "Colorado       -105.607716  \n",
      "Connecticut     -72.734216  \n",
      "Delaware        -75.401331  \n",
      "Florida         -81.463983  \n",
      "Georgia         -83.113737  \n",
      "Hawaii         -155.428370  \n",
      "Idaho          -114.015407  \n",
      "Illinois        -89.433729  \n",
      "Indiana         -86.174693  \n",
      "Iowa            -93.312270  \n",
      "Kansas          -98.582187  \n",
      "Kentucky        -85.155141  \n",
      "Louisiana       -92.007126  \n",
      "Maine           -68.859020  \n",
      "Maryland        -76.938207  \n",
      "Massachusetts   -72.032366  \n",
      "Michigan        -84.682435  \n",
      "Minnesota       -94.611329  \n",
      "Mississippi     -89.734850  \n",
      "Missouri        -92.561787  \n",
      "Montana        -109.638757  \n",
      "Nebraska        -99.587382  \n",
      "Nevada         -116.853723  \n",
      "New Hampshire   -71.655399  \n",
      "New Jersey      -74.404162  \n",
      "New Mexico     -105.993007  \n",
      "New York        -74.006015  \n",
      "North Carolina  -79.039292  \n",
      "North Dakota   -100.540737  \n",
      "Ohio            -82.688140  \n",
      "Oklahoma        -97.268406  \n",
      "Oregon         -120.737257  \n",
      "Pennsylvania    -77.727883  \n",
      "Rhode Island    -71.599237  \n",
      "South Carolina  -80.436374  \n",
      "South Dakota   -100.348761  \n",
      "Tennessee       -86.282008  \n",
      "Texas           -98.545612  \n",
      "Utah           -111.714358  \n",
      "Vermont         -72.500261  \n",
      "Virginia        -78.492772  \n",
      "Washington      -77.036543  \n",
      "West Virginia   -80.840841  \n",
      "Wisconsin       -89.688464  \n",
      "Wyoming        -107.568534  \n"
     ]
    }
   ],
   "source": [
    "# Getting the Latitudes and Longitudes in seperate columns\n",
    "geo_data['lat'] = geo_data['location'].apply(lambda z: z.latitude)\n",
    "geo_data['lon'] = geo_data['location'].apply(lambda z: z.longitude)\n",
    "print(geo_data)"
   ]
  },
  {
   "cell_type": "code",
   "execution_count": 70,
   "metadata": {},
   "outputs": [
    {
     "data": {
      "application/vnd.plotly.v1+json": {
       "config": {
        "plotlyServerURL": "https://plot.ly"
       },
       "data": [
        {
         "hovertemplate": "num_below_p50=%{marker.size}<br>lat=%{lat}<br>lon=%{marker.color}<extra></extra>",
         "lat": [
          33.2588817,
          64.4459613,
          34.395342,
          35.2048883,
          36.7014631,
          38.7251776,
          41.6500201,
          38.6920451,
          27.7567667,
          32.3293809,
          19.593801499999998,
          43.6447642,
          40.0796606,
          40.3270127,
          41.9216734,
          38.27312,
          37.5726028,
          30.8703881,
          45.709097,
          39.5162401,
          42.3788774,
          43.6211955,
          45.9896587,
          32.9715285,
          38.7604815,
          47.3752671,
          41.7370229,
          39.5158825,
          43.4849133,
          40.0757384,
          34.5708167,
          40.7127281,
          35.6729639,
          47.6201461,
          40.2253569,
          34.9550817,
          43.9792797,
          40.9699889,
          41.7962409,
          33.6874388,
          44.6471761,
          35.7730076,
          31.2638905,
          39.4225192,
          44.5990718,
          37.1232245,
          38.8950368,
          38.4758406,
          44.4308975,
          43.1700264
         ],
         "legendgroup": "",
         "lon": [
          -86.8295337,
          -149.680909,
          -111.763275,
          -92.4479108,
          -118.755997,
          -105.607716,
          -72.7342163,
          -75.4013315,
          -81.4639835,
          -83.1137366,
          -155.42837009716908,
          -114.015407,
          -89.4337288,
          -86.1746933,
          -93.3122705,
          -98.5821872,
          -85.1551411,
          -92.007126,
          -68.8590201,
          -76.9382069,
          -72.032366,
          -84.6824346,
          -94.6113288,
          -89.7348497,
          -92.5617875,
          -109.638757,
          -99.5873816,
          -116.8537227,
          -71.6553992,
          -74.4041622,
          -105.993007,
          -74.0060152,
          -79.0392919,
          -100.540737,
          -82.6881395,
          -97.2684063,
          -120.737257,
          -77.7278831,
          -71.5992372,
          -80.4363743,
          -100.348761,
          -86.2820081,
          -98.5456116,
          -111.714358,
          -72.5002608,
          -78.4927721,
          -77.0365427,
          -80.8408415,
          -89.6884637,
          -107.568534
         ],
         "marker": {
          "color": [
           -86.8295337,
           -149.680909,
           -111.763275,
           -92.4479108,
           -118.755997,
           -105.607716,
           -72.7342163,
           -75.4013315,
           -81.4639835,
           -83.1137366,
           -155.42837009716908,
           -114.015407,
           -89.4337288,
           -86.1746933,
           -93.3122705,
           -98.5821872,
           -85.1551411,
           -92.007126,
           -68.8590201,
           -76.9382069,
           -72.032366,
           -84.6824346,
           -94.6113288,
           -89.7348497,
           -92.5617875,
           -109.638757,
           -99.5873816,
           -116.8537227,
           -71.6553992,
           -74.4041622,
           -105.993007,
           -74.0060152,
           -79.0392919,
           -100.540737,
           -82.6881395,
           -97.2684063,
           -120.737257,
           -77.7278831,
           -71.5992372,
           -80.4363743,
           -100.348761,
           -86.2820081,
           -98.5456116,
           -111.714358,
           -72.5002608,
           -78.4927721,
           -77.0365427,
           -80.8408415,
           -89.6884637,
           -107.568534
          ],
          "coloraxis": "coloraxis",
          "size": [
           9745.937447540982,
           4301.6397449999995,
           43374.43476933333,
           5845.812924242424,
           81417.34915535714,
           9117.605612444444,
           29690.961274999998,
           25871.40166666667,
           31260.46990430769,
           7935.125885037038,
           29699.38755,
           4442.480793055555,
           12884.019099479168,
           6452.625919347826,
           2828.693644375,
           3659.660318493151,
           4532.788730849056,
           11337.711256666666,
           8176.0327125,
           21911.558995833333,
           33932.691985,
           11605.914123291139,
           4668.960022142857,
           6950.543658461538,
           6334.970756899999,
           3009.2870285714284,
           2904.553463333333,
           21725.092975454547,
           9447.79331,
           34381.43175238095,
           10532.052368148148,
           36563.50916721312,
           9974.017877708333,
           1876.385321724138,
           13517.855835227272,
           6726.839174861111,
           10718.755045454545,
           17200.246883432836,
           18144.8392,
           12344.278770454546,
           2065.809273055556,
           7965.652501888889,
           16504.249568418367,
           9233.6456428,
           4777.228516666667,
           6866.670227706421,
           15216.31815361111,
           4031.7462327083335,
           6539.118007352941,
           2229.587461818182
          ],
          "sizemode": "area",
          "sizeref": 203.54337288839284
         },
         "mode": "markers",
         "name": "",
         "showlegend": false,
         "subplot": "mapbox",
         "type": "scattermapbox"
        }
       ],
       "layout": {
        "coloraxis": {
         "colorbar": {
          "title": {
           "text": "lon"
          }
         },
         "colorscale": [
          [
           0,
           "#0d0887"
          ],
          [
           0.1111111111111111,
           "#46039f"
          ],
          [
           0.2222222222222222,
           "#7201a8"
          ],
          [
           0.3333333333333333,
           "#9c179e"
          ],
          [
           0.4444444444444444,
           "#bd3786"
          ],
          [
           0.5555555555555556,
           "#d8576b"
          ],
          [
           0.6666666666666666,
           "#ed7953"
          ],
          [
           0.7777777777777778,
           "#fb9f3a"
          ],
          [
           0.8888888888888888,
           "#fdca26"
          ],
          [
           1,
           "#f0f921"
          ]
         ]
        },
        "legend": {
         "itemsizing": "constant",
         "tracegroupgap": 0
        },
        "mapbox": {
         "accesstoken": "pk.eyJ1IjoiYXJubmF2djEyIiwiYSI6ImNsYTE5OW9zZzA1OHQzcHNhNnczaHpoODQifQ.9uzxOzRkD2hDQNTK2Ua64A",
         "center": {
          "lat": 39.371391714000005,
          "lon": -92.7304290339434
         },
         "domain": {
          "x": [
           0,
           1
          ],
          "y": [
           0,
           1
          ]
         },
         "style": "carto-positron",
         "zoom": 3
        },
        "margin": {
         "t": 60
        },
        "template": {
         "data": {
          "bar": [
           {
            "error_x": {
             "color": "#2a3f5f"
            },
            "error_y": {
             "color": "#2a3f5f"
            },
            "marker": {
             "line": {
              "color": "#E5ECF6",
              "width": 0.5
             },
             "pattern": {
              "fillmode": "overlay",
              "size": 10,
              "solidity": 0.2
             }
            },
            "type": "bar"
           }
          ],
          "barpolar": [
           {
            "marker": {
             "line": {
              "color": "#E5ECF6",
              "width": 0.5
             },
             "pattern": {
              "fillmode": "overlay",
              "size": 10,
              "solidity": 0.2
             }
            },
            "type": "barpolar"
           }
          ],
          "carpet": [
           {
            "aaxis": {
             "endlinecolor": "#2a3f5f",
             "gridcolor": "white",
             "linecolor": "white",
             "minorgridcolor": "white",
             "startlinecolor": "#2a3f5f"
            },
            "baxis": {
             "endlinecolor": "#2a3f5f",
             "gridcolor": "white",
             "linecolor": "white",
             "minorgridcolor": "white",
             "startlinecolor": "#2a3f5f"
            },
            "type": "carpet"
           }
          ],
          "choropleth": [
           {
            "colorbar": {
             "outlinewidth": 0,
             "ticks": ""
            },
            "type": "choropleth"
           }
          ],
          "contour": [
           {
            "colorbar": {
             "outlinewidth": 0,
             "ticks": ""
            },
            "colorscale": [
             [
              0,
              "#0d0887"
             ],
             [
              0.1111111111111111,
              "#46039f"
             ],
             [
              0.2222222222222222,
              "#7201a8"
             ],
             [
              0.3333333333333333,
              "#9c179e"
             ],
             [
              0.4444444444444444,
              "#bd3786"
             ],
             [
              0.5555555555555556,
              "#d8576b"
             ],
             [
              0.6666666666666666,
              "#ed7953"
             ],
             [
              0.7777777777777778,
              "#fb9f3a"
             ],
             [
              0.8888888888888888,
              "#fdca26"
             ],
             [
              1,
              "#f0f921"
             ]
            ],
            "type": "contour"
           }
          ],
          "contourcarpet": [
           {
            "colorbar": {
             "outlinewidth": 0,
             "ticks": ""
            },
            "type": "contourcarpet"
           }
          ],
          "heatmap": [
           {
            "colorbar": {
             "outlinewidth": 0,
             "ticks": ""
            },
            "colorscale": [
             [
              0,
              "#0d0887"
             ],
             [
              0.1111111111111111,
              "#46039f"
             ],
             [
              0.2222222222222222,
              "#7201a8"
             ],
             [
              0.3333333333333333,
              "#9c179e"
             ],
             [
              0.4444444444444444,
              "#bd3786"
             ],
             [
              0.5555555555555556,
              "#d8576b"
             ],
             [
              0.6666666666666666,
              "#ed7953"
             ],
             [
              0.7777777777777778,
              "#fb9f3a"
             ],
             [
              0.8888888888888888,
              "#fdca26"
             ],
             [
              1,
              "#f0f921"
             ]
            ],
            "type": "heatmap"
           }
          ],
          "heatmapgl": [
           {
            "colorbar": {
             "outlinewidth": 0,
             "ticks": ""
            },
            "colorscale": [
             [
              0,
              "#0d0887"
             ],
             [
              0.1111111111111111,
              "#46039f"
             ],
             [
              0.2222222222222222,
              "#7201a8"
             ],
             [
              0.3333333333333333,
              "#9c179e"
             ],
             [
              0.4444444444444444,
              "#bd3786"
             ],
             [
              0.5555555555555556,
              "#d8576b"
             ],
             [
              0.6666666666666666,
              "#ed7953"
             ],
             [
              0.7777777777777778,
              "#fb9f3a"
             ],
             [
              0.8888888888888888,
              "#fdca26"
             ],
             [
              1,
              "#f0f921"
             ]
            ],
            "type": "heatmapgl"
           }
          ],
          "histogram": [
           {
            "marker": {
             "pattern": {
              "fillmode": "overlay",
              "size": 10,
              "solidity": 0.2
             }
            },
            "type": "histogram"
           }
          ],
          "histogram2d": [
           {
            "colorbar": {
             "outlinewidth": 0,
             "ticks": ""
            },
            "colorscale": [
             [
              0,
              "#0d0887"
             ],
             [
              0.1111111111111111,
              "#46039f"
             ],
             [
              0.2222222222222222,
              "#7201a8"
             ],
             [
              0.3333333333333333,
              "#9c179e"
             ],
             [
              0.4444444444444444,
              "#bd3786"
             ],
             [
              0.5555555555555556,
              "#d8576b"
             ],
             [
              0.6666666666666666,
              "#ed7953"
             ],
             [
              0.7777777777777778,
              "#fb9f3a"
             ],
             [
              0.8888888888888888,
              "#fdca26"
             ],
             [
              1,
              "#f0f921"
             ]
            ],
            "type": "histogram2d"
           }
          ],
          "histogram2dcontour": [
           {
            "colorbar": {
             "outlinewidth": 0,
             "ticks": ""
            },
            "colorscale": [
             [
              0,
              "#0d0887"
             ],
             [
              0.1111111111111111,
              "#46039f"
             ],
             [
              0.2222222222222222,
              "#7201a8"
             ],
             [
              0.3333333333333333,
              "#9c179e"
             ],
             [
              0.4444444444444444,
              "#bd3786"
             ],
             [
              0.5555555555555556,
              "#d8576b"
             ],
             [
              0.6666666666666666,
              "#ed7953"
             ],
             [
              0.7777777777777778,
              "#fb9f3a"
             ],
             [
              0.8888888888888888,
              "#fdca26"
             ],
             [
              1,
              "#f0f921"
             ]
            ],
            "type": "histogram2dcontour"
           }
          ],
          "mesh3d": [
           {
            "colorbar": {
             "outlinewidth": 0,
             "ticks": ""
            },
            "type": "mesh3d"
           }
          ],
          "parcoords": [
           {
            "line": {
             "colorbar": {
              "outlinewidth": 0,
              "ticks": ""
             }
            },
            "type": "parcoords"
           }
          ],
          "pie": [
           {
            "automargin": true,
            "type": "pie"
           }
          ],
          "scatter": [
           {
            "marker": {
             "colorbar": {
              "outlinewidth": 0,
              "ticks": ""
             }
            },
            "type": "scatter"
           }
          ],
          "scatter3d": [
           {
            "line": {
             "colorbar": {
              "outlinewidth": 0,
              "ticks": ""
             }
            },
            "marker": {
             "colorbar": {
              "outlinewidth": 0,
              "ticks": ""
             }
            },
            "type": "scatter3d"
           }
          ],
          "scattercarpet": [
           {
            "marker": {
             "colorbar": {
              "outlinewidth": 0,
              "ticks": ""
             }
            },
            "type": "scattercarpet"
           }
          ],
          "scattergeo": [
           {
            "marker": {
             "colorbar": {
              "outlinewidth": 0,
              "ticks": ""
             }
            },
            "type": "scattergeo"
           }
          ],
          "scattergl": [
           {
            "marker": {
             "colorbar": {
              "outlinewidth": 0,
              "ticks": ""
             }
            },
            "type": "scattergl"
           }
          ],
          "scattermapbox": [
           {
            "marker": {
             "colorbar": {
              "outlinewidth": 0,
              "ticks": ""
             }
            },
            "type": "scattermapbox"
           }
          ],
          "scatterpolar": [
           {
            "marker": {
             "colorbar": {
              "outlinewidth": 0,
              "ticks": ""
             }
            },
            "type": "scatterpolar"
           }
          ],
          "scatterpolargl": [
           {
            "marker": {
             "colorbar": {
              "outlinewidth": 0,
              "ticks": ""
             }
            },
            "type": "scatterpolargl"
           }
          ],
          "scatterternary": [
           {
            "marker": {
             "colorbar": {
              "outlinewidth": 0,
              "ticks": ""
             }
            },
            "type": "scatterternary"
           }
          ],
          "surface": [
           {
            "colorbar": {
             "outlinewidth": 0,
             "ticks": ""
            },
            "colorscale": [
             [
              0,
              "#0d0887"
             ],
             [
              0.1111111111111111,
              "#46039f"
             ],
             [
              0.2222222222222222,
              "#7201a8"
             ],
             [
              0.3333333333333333,
              "#9c179e"
             ],
             [
              0.4444444444444444,
              "#bd3786"
             ],
             [
              0.5555555555555556,
              "#d8576b"
             ],
             [
              0.6666666666666666,
              "#ed7953"
             ],
             [
              0.7777777777777778,
              "#fb9f3a"
             ],
             [
              0.8888888888888888,
              "#fdca26"
             ],
             [
              1,
              "#f0f921"
             ]
            ],
            "type": "surface"
           }
          ],
          "table": [
           {
            "cells": {
             "fill": {
              "color": "#EBF0F8"
             },
             "line": {
              "color": "white"
             }
            },
            "header": {
             "fill": {
              "color": "#C8D4E3"
             },
             "line": {
              "color": "white"
             }
            },
            "type": "table"
           }
          ]
         },
         "layout": {
          "annotationdefaults": {
           "arrowcolor": "#2a3f5f",
           "arrowhead": 0,
           "arrowwidth": 1
          },
          "autotypenumbers": "strict",
          "coloraxis": {
           "colorbar": {
            "outlinewidth": 0,
            "ticks": ""
           }
          },
          "colorscale": {
           "diverging": [
            [
             0,
             "#8e0152"
            ],
            [
             0.1,
             "#c51b7d"
            ],
            [
             0.2,
             "#de77ae"
            ],
            [
             0.3,
             "#f1b6da"
            ],
            [
             0.4,
             "#fde0ef"
            ],
            [
             0.5,
             "#f7f7f7"
            ],
            [
             0.6,
             "#e6f5d0"
            ],
            [
             0.7,
             "#b8e186"
            ],
            [
             0.8,
             "#7fbc41"
            ],
            [
             0.9,
             "#4d9221"
            ],
            [
             1,
             "#276419"
            ]
           ],
           "sequential": [
            [
             0,
             "#0d0887"
            ],
            [
             0.1111111111111111,
             "#46039f"
            ],
            [
             0.2222222222222222,
             "#7201a8"
            ],
            [
             0.3333333333333333,
             "#9c179e"
            ],
            [
             0.4444444444444444,
             "#bd3786"
            ],
            [
             0.5555555555555556,
             "#d8576b"
            ],
            [
             0.6666666666666666,
             "#ed7953"
            ],
            [
             0.7777777777777778,
             "#fb9f3a"
            ],
            [
             0.8888888888888888,
             "#fdca26"
            ],
            [
             1,
             "#f0f921"
            ]
           ],
           "sequentialminus": [
            [
             0,
             "#0d0887"
            ],
            [
             0.1111111111111111,
             "#46039f"
            ],
            [
             0.2222222222222222,
             "#7201a8"
            ],
            [
             0.3333333333333333,
             "#9c179e"
            ],
            [
             0.4444444444444444,
             "#bd3786"
            ],
            [
             0.5555555555555556,
             "#d8576b"
            ],
            [
             0.6666666666666666,
             "#ed7953"
            ],
            [
             0.7777777777777778,
             "#fb9f3a"
            ],
            [
             0.8888888888888888,
             "#fdca26"
            ],
            [
             1,
             "#f0f921"
            ]
           ]
          },
          "colorway": [
           "#636efa",
           "#EF553B",
           "#00cc96",
           "#ab63fa",
           "#FFA15A",
           "#19d3f3",
           "#FF6692",
           "#B6E880",
           "#FF97FF",
           "#FECB52"
          ],
          "font": {
           "color": "#2a3f5f"
          },
          "geo": {
           "bgcolor": "white",
           "lakecolor": "white",
           "landcolor": "#E5ECF6",
           "showlakes": true,
           "showland": true,
           "subunitcolor": "white"
          },
          "hoverlabel": {
           "align": "left"
          },
          "hovermode": "closest",
          "mapbox": {
           "style": "light"
          },
          "paper_bgcolor": "white",
          "plot_bgcolor": "#E5ECF6",
          "polar": {
           "angularaxis": {
            "gridcolor": "white",
            "linecolor": "white",
            "ticks": ""
           },
           "bgcolor": "#E5ECF6",
           "radialaxis": {
            "gridcolor": "white",
            "linecolor": "white",
            "ticks": ""
           }
          },
          "scene": {
           "xaxis": {
            "backgroundcolor": "#E5ECF6",
            "gridcolor": "white",
            "gridwidth": 2,
            "linecolor": "white",
            "showbackground": true,
            "ticks": "",
            "zerolinecolor": "white"
           },
           "yaxis": {
            "backgroundcolor": "#E5ECF6",
            "gridcolor": "white",
            "gridwidth": 2,
            "linecolor": "white",
            "showbackground": true,
            "ticks": "",
            "zerolinecolor": "white"
           },
           "zaxis": {
            "backgroundcolor": "#E5ECF6",
            "gridcolor": "white",
            "gridwidth": 2,
            "linecolor": "white",
            "showbackground": true,
            "ticks": "",
            "zerolinecolor": "white"
           }
          },
          "shapedefaults": {
           "line": {
            "color": "#2a3f5f"
           }
          },
          "ternary": {
           "aaxis": {
            "gridcolor": "white",
            "linecolor": "white",
            "ticks": ""
           },
           "baxis": {
            "gridcolor": "white",
            "linecolor": "white",
            "ticks": ""
           },
           "bgcolor": "#E5ECF6",
           "caxis": {
            "gridcolor": "white",
            "linecolor": "white",
            "ticks": ""
           }
          },
          "title": {
           "x": 0.05
          },
          "xaxis": {
           "automargin": true,
           "gridcolor": "white",
           "linecolor": "white",
           "ticks": "",
           "title": {
            "standoff": 15
           },
           "zerolinecolor": "white",
           "zerolinewidth": 2
          },
          "yaxis": {
           "automargin": true,
           "gridcolor": "white",
           "linecolor": "white",
           "ticks": "",
           "title": {
            "standoff": 15
           },
           "zerolinecolor": "white",
           "zerolinewidth": 2
          }
         }
        }
       }
      }
     },
     "metadata": {},
     "output_type": "display_data"
    }
   ],
   "source": [
    "# Plotting a mapbox of Number of children with below-national-median parental household income for each state in the United States\n",
    "px.set_mapbox_access_token(token = 'pk.eyJ1IjoiYXJubmF2djEyIiwiYSI6ImNsYTE5OW9zZzA1OHQzcHNhNnczaHpoODQifQ.9uzxOzRkD2hDQNTK2Ua64A')\n",
    "fig = px.scatter_mapbox(geo_data, lat = 'lat', lon = 'lon', color = 'lon', size = 'num_below_p50', zoom = 3.0)\n",
    "fig.update_layout(mapbox_style = \"carto-positron\")"
   ]
  },
  {
   "attachments": {},
   "cell_type": "markdown",
   "id": "0ce299a8",
   "metadata": {},
   "source": [
    "## Clustering"
   ]
  },
  {
   "cell_type": "code",
   "execution_count": 71,
   "id": "e61d105c",
   "metadata": {},
   "outputs": [],
   "source": [
    "# creating a copy of the data for clustering from line_data as it already contains the mean\n",
    "data_clust = line_data\n",
    "# Selecting the cluster columns\n",
    "clust_columns = data_clust[['ec_county', 'volunteering_rate_county','civic_organizations_county']]\n",
    "df_cluster = clust_columns.dropna()\n",
    "\n",
    "# Scale the data and performing KMeans clustering\n",
    "scaler = StandardScaler()\n",
    "scaled_data = scaler.fit_transform(df_cluster)\n",
    "clustering = KMeans(n_clusters=10, random_state=0).fit(df_cluster)\n",
    "clustering.predict(scaled_data)\n",
    "clustering.labels_\n",
    "clustering.cluster_centers_\n",
    "# Store the cluster assignments\n",
    "df_cluster[\"label\"] = clustering.labels_"
   ]
  },
  {
   "cell_type": "code",
   "execution_count": 72,
   "id": "ee027fae",
   "metadata": {},
   "outputs": [
    {
     "name": "stdout",
     "output_type": "stream",
     "text": [
      "('Alabama', 0.6066665575409835, 0.04306606555737705, 0.01494295083442623, 1)\n",
      "('Georgia', 0.6167890366666667, 0.05146629637037037, 0.015571037071851852, 1)\n",
      "('Mississippi', 0.6493603093846154, 0.04586969233846154, 0.012317076893846153, 1)\n",
      "('New Mexico', 0.6284192655555556, 0.06107962922222222, 0.02107111105185185, 1)\n",
      "('North Carolina', 0.63528614375, 0.05471562475, 0.019296458279166668, 1)\n",
      "\n",
      "\n",
      "('Alaska', 0.9935262575, 0.1342212499375, 0.0238218750625, 2)\n",
      "('Iowa', 0.9824821957291667, 0.08775468719791667, 0.021315833343750003, 2)\n",
      "('Nebraska', 0.9634887705263159, 0.08329052614035087, 0.02195192976842105, 2)\n",
      "('South Dakota', 0.9652738869444444, 0.07759222230555556, 0.02423805541388889, 2)\n",
      "('Wisconsin', 0.9706402952941175, 0.08930705867647058, 0.021541617735294116, 2)\n",
      "('Wyoming', 0.9887318199999999, 0.08986136454545454, 0.02752363636363636, 2)\n",
      "\n",
      "\n",
      "('Arizona', 0.6919280013333334, 0.062119999733333334, 0.017184000053333332, 5)\n",
      "('Arkansas', 0.6968981803030303, 0.076944394, 0.01660257580151515, 5)\n",
      "('Florida', 0.6688532295384615, 0.05706123064615385, 0.015825384673846154, 5)\n",
      "('Louisiana', 0.709495166, 0.06457249973333333, 0.012170166636666667, 5)\n",
      "('Tennessee', 0.683836559, 0.07139288878888889, 0.015625222214444446, 5)\n",
      "\n",
      "\n",
      "('California', 0.8033267833928571, 0.07511089321428573, 0.0183312501, 6)\n",
      "('Delaware', 0.78161331, 0.05648333466666666, 0.017523333666666665, 6)\n",
      "('Texas', 0.7623900485714286, 0.06705734701530612, 0.016545612254081632, 6)\n",
      "\n",
      "\n",
      "('Colorado', 0.9580617768888888, 0.07590044435555555, 0.022316444357777777, 8)\n",
      "('Connecticut', 0.9486925025, 0.07028, 0.018191250125, 8)\n",
      "('Kansas', 0.9290783590410959, 0.09913725991780822, 0.024663972684931507, 8)\n",
      "('Maryland', 0.9487474941666667, 0.069006666, 0.02033083325, 8)\n",
      "('Massachusetts', 0.9285550057142856, 0.07676857114285715, 0.022057856857142854, 8)\n",
      "('Vermont', 0.9441508375000001, 0.08628416741666667, 0.0285166665, 8)\n",
      "\n",
      "\n",
      "('Hawaii', 1.041254995, 0.09149000075, 0.019545, 4)\n",
      "('Minnesota', 1.0461948801190477, 0.07354083333333333, 0.02169857141190476, 4)\n",
      "('New Hampshire', 1.087420992, 0.0782429994, 0.0249089999, 4)\n",
      "('North Dakota', 1.0567017110344827, 0.07602310372413792, 0.02269344845517241, 4)\n",
      "('Rhode Island', 1.023337978, 0.06543000060000001, 0.0178140002, 4)\n",
      "('Utah', 1.0164303984, 0.07461120028, 0.014586399932, 4)\n",
      "\n",
      "\n",
      "('Idaho', 0.8553188894444443, 0.09383138897222222, 0.01775611116388889, 0)\n",
      "('Montana', 0.8628359954285715, 0.08395142857142857, 0.026241999914285715, 0)\n",
      "('New Jersey', 0.8944709371428571, 0.0634333330952381, 0.015303809638095236, 0)\n",
      "('Pennsylvania', 0.8629791032835821, 0.07432388049253731, 0.019205074522388062, 0)\n",
      "('Washington', 0.8656975019444445, 0.08830888886111112, 0.02163166675277778, 0)\n",
      "\n",
      "\n",
      "('Illinois', 0.8461723929166666, 0.09164281271875001, 0.018129270929166667, 9)\n",
      "('Indiana', 0.8234373854347826, 0.09875902099999999, 0.01833380443043478, 9)\n",
      "('Kentucky', 0.8319648129245283, 0.06619726435849056, 0.0155383018754717, 9)\n",
      "('Maine', 0.841684371875, 0.092456874375, 0.025925625, 9)\n",
      "('Missouri', 0.8464680002999999, 0.09490410005, 0.018882899976, 9)\n",
      "('Nevada', 0.8358109109090909, 0.08343545527272728, 0.016359091, 9)\n",
      "('New York', 0.8369363931147541, 0.0763340981147541, 0.01967016403934426, 9)\n",
      "('Virginia', 0.8273068786238532, 0.07301651374311927, 0.020796513838532107, 9)\n",
      "\n",
      "\n",
      "('Michigan', 0.8053440516455697, 0.12845759543037977, 0.021912405077215192, 3)\n",
      "('Ohio', 0.8065464748863637, 0.0878036363409091, 0.01722068173636364, 3)\n",
      "('Oklahoma', 0.7861233359722222, 0.10779263920833333, 0.017418888843055553, 3)\n",
      "('Oregon', 0.7896581784848484, 0.09798030263636363, 0.023275757666666667, 3)\n",
      "('West Virginia', 0.7881543685416667, 0.08948041625000001, 0.016187500039583334, 3)\n",
      "\n",
      "\n",
      "('South Carolina', 0.5685863613636364, 0.03964159090909091, 0.014859090897727273, 7)\n",
      "\n",
      "\n"
     ]
    }
   ],
   "source": [
    "cluster_ec_county = {}\n",
    "for index, row in df_cluster.reset_index().iterrows():\n",
    "    clust = row[\"label\"]\n",
    "    cluster_ec_county.setdefault(clust, []).append(row)\n",
    "\n",
    "# Printing out the clusters\n",
    "for cluster, rows in cluster_ec_county.items():\n",
    "    rows_tuples = [ tuple(row) for row in rows ]\n",
    "    for row in sorted(rows_tuples):\n",
    "        print(row[:7])\n",
    "    print(\"\\n\")"
   ]
  },
  {
   "attachments": {},
   "cell_type": "markdown",
   "id": "0ce299a8",
   "metadata": {},
   "source": [
    "## Classification"
   ]
  },
  {
   "cell_type": "code",
   "execution_count": 73,
   "metadata": {},
   "outputs": [
    {
     "name": "stdout",
     "output_type": "stream",
     "text": [
      "        num_below_p50   pop2018  ec_county  ec_se_county  child_ec_county  \\\n",
      "county                                                                      \n",
      "1001       5922.39210   55200.0    0.72077       0.00831          1.11754   \n",
      "1003      15458.39600  208107.0    0.74313       0.00661          0.83064   \n",
      "1005       4863.97360   25782.0    0.41366       0.00978          0.58541   \n",
      "1007       3061.49340   22527.0    0.63152       0.01175          0.72265   \n",
      "1009       6740.91160   57645.0    0.72562       0.00985          0.76096   \n",
      "...               ...       ...        ...           ...              ...   \n",
      "56037      2402.96900   44117.0    0.96235       0.01280          1.14781   \n",
      "56039       783.24982   23059.0    1.07623       0.01744          1.23113   \n",
      "56041      2174.06180   20609.0    0.95452       0.01404          1.04595   \n",
      "56043       872.51544    8129.0    0.90667       0.01928          0.90794   \n",
      "56045       635.28436    7100.0    0.97840       0.02036          1.09118   \n",
      "\n",
      "        child_ec_se_county  ec_grp_mem_county  ec_high_county  \\\n",
      "county                                                          \n",
      "1001               0.02467            0.77223         1.21372   \n",
      "1003               0.01629            0.76215         1.28302   \n",
      "1005               0.02707            0.35927         0.91897   \n",
      "1007               0.03027            0.68094         1.06378   \n",
      "1009               0.02466            0.79584         1.10569   \n",
      "...                    ...                ...             ...   \n",
      "56037              0.02794            1.13449         1.32399   \n",
      "56039              0.04692            1.13296         1.63551   \n",
      "56041              0.03455            0.92831         1.32040   \n",
      "56043              0.04962            0.78223         1.29208   \n",
      "56045              0.05823            0.93135         1.28553   \n",
      "\n",
      "        ec_high_se_county  child_high_ec_county  ...  child_exposure_county  \\\n",
      "county                                           ...                          \n",
      "1001              0.01019               1.29814  ...                1.14816   \n",
      "1003              0.00757               1.06080  ...                0.84588   \n",
      "1005              0.02199               0.86154  ...                0.63306   \n",
      "1007              0.01476               0.83973  ...                0.71433   \n",
      "1009              0.01163               0.86316  ...                0.74821   \n",
      "...                   ...                   ...  ...                    ...   \n",
      "56037             0.01177               1.22712  ...                1.12164   \n",
      "56039             0.00848               1.45307  ...                1.32874   \n",
      "56041             0.01351               1.12739  ...                1.05446   \n",
      "56043             0.02298               0.93971  ...                0.88480   \n",
      "56045             0.02013               1.10389  ...                1.03325   \n",
      "\n",
      "        child_high_exposure_county  bias_grp_mem_county  \\\n",
      "county                                                    \n",
      "1001                       1.19944              0.05526   \n",
      "1003                       1.00797              0.02950   \n",
      "1005                       0.71967              0.13457   \n",
      "1007                       0.72395              0.04108   \n",
      "1009                       0.79375              0.00217   \n",
      "...                            ...                  ...   \n",
      "56037                      1.12907              0.09519   \n",
      "56039                      1.35341              0.14337   \n",
      "56041                      1.06284              0.13816   \n",
      "56043                      0.88589              0.06667   \n",
      "56045                      1.05526              0.02279   \n",
      "\n",
      "        bias_grp_mem_high_county  child_bias_county  child_high_bias_county  \\\n",
      "county                                                                        \n",
      "1001                    -0.22748            0.02668                -0.08229   \n",
      "1003                    -0.21519            0.01802                -0.05241   \n",
      "1005                    -0.34086            0.07528                -0.19714   \n",
      "1007                    -0.27727           -0.01165                -0.15993   \n",
      "1009                    -0.24946           -0.01704                -0.08745   \n",
      "...                          ...                ...                     ...   \n",
      "56037                   -0.12030           -0.02333                -0.08683   \n",
      "56039                   -0.11958            0.07346                -0.07364   \n",
      "56041                   -0.12194            0.00808                -0.06074   \n",
      "56043                   -0.20435           -0.02615                -0.06076   \n",
      "56045                   -0.17229           -0.05606                -0.04609   \n",
      "\n",
      "        clustering_county  support_ratio_county  volunteering_rate_county  \\\n",
      "county                                                                      \n",
      "1001              0.10347               0.98275                   0.04355   \n",
      "1003              0.09624               0.98684                   0.06117   \n",
      "1005              0.14911               0.99911                   0.02093   \n",
      "1007              0.14252               0.99716                   0.05294   \n",
      "1009              0.11243               0.99069                   0.05704   \n",
      "...                   ...                   ...                       ...   \n",
      "56037             0.10809               0.99710                   0.07321   \n",
      "56039             0.09253               0.98648                   0.09747   \n",
      "56041             0.11204               0.99479                   0.06942   \n",
      "56043             0.11592               0.99708                   0.05843   \n",
      "56045             0.11927               0.99730                   0.13635   \n",
      "\n",
      "        civic_organizations_county  \n",
      "county                              \n",
      "1001                       0.01518  \n",
      "1003                       0.01526  \n",
      "1005                       0.01474  \n",
      "1007                       0.01439  \n",
      "1009                       0.01724  \n",
      "...                            ...  \n",
      "56037                      0.01225  \n",
      "56039                      0.03223  \n",
      "56041                      0.01222  \n",
      "56043                      0.03512  \n",
      "56045                      0.02375  \n",
      "\n",
      "[2713 rows x 24 columns]\n"
     ]
    }
   ],
   "source": [
    "# Setting the class label\n",
    "class_label = \"economic connectedness\"\n",
    "# splitting the data column into three equal categories for classification\n",
    "def convert_to_categorical(s):\n",
    "    if s >= 1.02:\n",
    "        return \"High Connectedness\"\n",
    "    elif s < 1.02 and s > 0.68:\n",
    "        return \"Average Connectedness\"\n",
    "    else:\n",
    "        return \"Low Connectedness\"\n",
    "class_data = data\n",
    "class_data.drop(class_data.loc[:, :'county_name'].columns, axis=1, inplace = True)\n",
    "class_data.dropna(inplace = True)\n",
    "print(class_data)\n",
    "class_data[class_label] = class_data['ec_county'].apply(convert_to_categorical)"
   ]
  },
  {
   "cell_type": "code",
   "execution_count": 74,
   "id": "b3a01df6",
   "metadata": {},
   "outputs": [
    {
     "name": "stdout",
     "output_type": "stream",
     "text": [
      "Accuracy: 0.6869244935543278\n",
      "No. of missclassifications: 170\n"
     ]
    }
   ],
   "source": [
    "# Creating trainig and testing sets to perform KNN classification\n",
    "y = class_data[class_label]\n",
    "X = class_data.drop(columns = ['ec_county', class_label])\n",
    "x_train, x_test, y_train, y_test = train_test_split(X, y, test_size=0.2, random_state = 0)\n",
    "\n",
    "knn_classifier = KNeighborsClassifier(n_neighbors = 40)\n",
    "knn_classifier.fit(x_train, y_train)\n",
    "y_predict = knn_classifier.predict(x_test)\n",
    "\n",
    "# Calculating the accuracy metrics for the classification\n",
    "acc = metrics.accuracy_score(y_test, y_predict, normalize = True)\n",
    "print(\"Accuracy:\", acc)\n",
    "\n",
    "# Calculating the misclassification rate for the classification\n",
    "new_metric = metrics.zero_one_loss(y_test, y_predict, normalize = False)\n",
    "print(\"No. of missclassifications:\", new_metric)"
   ]
  },
  {
   "cell_type": "code",
   "execution_count": 75,
   "metadata": {},
   "outputs": [
    {
     "name": "stdout",
     "output_type": "stream",
     "text": [
      "Average Connectedness    1774\n",
      "Low Connectedness         586\n",
      "High Connectedness        353\n",
      "Name: economic connectedness, dtype: int64\n",
      "[0.68298969 0.66752577 0.68814433 0.71134021 0.66666667 0.68475452\n",
      " 0.67958656]\n"
     ]
    }
   ],
   "source": [
    "# Performing a 7 fold KNN classification\n",
    "print(y.value_counts())\n",
    "scores = cross_val_score(knn_classifier, X, y, cv = 7)\n",
    "print(scores)"
   ]
  }
 ],
 "metadata": {
  "kernelspec": {
   "display_name": "base",
   "language": "python",
   "name": "python3"
  },
  "language_info": {
   "codemirror_mode": {
    "name": "ipython",
    "version": 3
   },
   "file_extension": ".py",
   "mimetype": "text/x-python",
   "name": "python",
   "nbconvert_exporter": "python",
   "pygments_lexer": "ipython3",
   "version": "3.9.7 (default, Sep 16 2021, 08:50:36) \n[Clang 10.0.0 ]"
  },
  "orig_nbformat": 4,
  "vscode": {
   "interpreter": {
    "hash": "40d3a090f54c6569ab1632332b64b2c03c39dcf918b08424e98f38b5ae0af88f"
   }
  }
 },
 "nbformat": 4,
 "nbformat_minor": 2
}
